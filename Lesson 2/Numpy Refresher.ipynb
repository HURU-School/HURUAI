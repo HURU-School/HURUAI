{
 "cells": [
  {
   "cell_type": "markdown",
   "id": "743018f2",
   "metadata": {},
   "source": [
    "[![Open In Colab](https://colab.research.google.com/assets/colab-badge.svg)](https://colab.research.google.com/github/HURU-School/HURUAI/blob/main/Lesson%202/Numpy%20Refresher.ipynb)"
   ]
  },
  {
   "cell_type": "markdown",
   "id": "fc7da528",
   "metadata": {},
   "source": [
    "# Numpy"
   ]
  },
  {
   "cell_type": "markdown",
   "id": "92b172b7",
   "metadata": {},
   "source": [
    "## A little About Arrays in Python."
   ]
  },
  {
   "cell_type": "markdown",
   "id": "7f959dd6",
   "metadata": {},
   "source": [
    "Arrays, sometimes called lists, organize data sequentially in memory. They are the simplest and most widely used data structure. Arrays are the best at storing data and looping over the data. \n",
    "![Arrays](../images/Lesson_2/arrays.PNG)  \n",
    "Python has an array module built in but we almost always use numpy, a scientific library for python, because numpy is much more faster than the native python array module.  \n",
    "**NOTE:** Python, like most programming languages is **Zero-indexed**, meaning that when counting indices in python, we alwats start at Zero and not at One."
   ]
  },
  {
   "cell_type": "markdown",
   "id": "d67d507a",
   "metadata": {
    "heading_collapsed": true
   },
   "source": [
    "### Creating Arrays"
   ]
  },
  {
   "cell_type": "code",
   "execution_count": 4,
   "id": "26466293",
   "metadata": {
    "hidden": true
   },
   "outputs": [],
   "source": [
    "# Import the numpy library\n",
    "import numpy as np"
   ]
  },
  {
   "cell_type": "code",
   "execution_count": 5,
   "id": "7079cee6",
   "metadata": {
    "hidden": true
   },
   "outputs": [],
   "source": [
    "# Set a seed. This just makes sure that the random function is a little bit more predictable and reproducible.\n",
    "np.random.seed(42)\n",
    "\n",
    "# Create a numpy array\n",
    "x = np.random.randint(10, size=6) # Creates a one-dimensional array\n",
    "y = np.random.randint(10, size=(3, 4)) # Creates a two-dimensional array\n",
    "z = np.random.randint(10, size=(3, 4, 5)) # Creates a three-dimensional array"
   ]
  },
  {
   "cell_type": "markdown",
   "id": "37012f81",
   "metadata": {
    "heading_collapsed": true
   },
   "source": [
    "### Array Attributes\n",
    "The attributes of an array include:\n",
    "  * ndim - the number of dimensions\n",
    "  * shape - the size of each dimension\n",
    "  * size - the total size of the array\n",
    "  * dtype - the data type of the array\n",
    "  * itemsize - the size of each element in the array(in bytes).\n",
    "  * nbytes - the total size of the array(in bytes)."
   ]
  },
  {
   "cell_type": "code",
   "execution_count": 9,
   "id": "ee2626d9",
   "metadata": {
    "hidden": true
   },
   "outputs": [
    {
     "name": "stdout",
     "output_type": "stream",
     "text": [
      "Array z's number of dimensions:  3\n",
      "Array z's shape:  (3, 4, 5)\n",
      "Array z's size:  60\n",
      "Array z's type:  int32\n",
      "Array z's itemsize:  4\n",
      "Array z's nbytes:  240\n"
     ]
    }
   ],
   "source": [
    "print(\"Array z's number of dimensions: \", z.ndim)\n",
    "print(\"Array z's shape: \", z.shape)\n",
    "print(\"Array z's size: \", z.size)\n",
    "print(\"Array z's type: \", z.dtype)\n",
    "print(\"Array z's itemsize: \", z.itemsize)\n",
    "print(\"Array z's nbytes: \", z.nbytes)"
   ]
  },
  {
   "cell_type": "markdown",
   "id": "cf91d3a8",
   "metadata": {
    "heading_collapsed": true
   },
   "source": [
    "### Indexing in Arrays\n",
    "This is a method to access elements in an array. It is done by specifying the index of the item desired in square brackets"
   ]
  },
  {
   "cell_type": "code",
   "execution_count": 10,
   "id": "dd45f33f",
   "metadata": {
    "hidden": true
   },
   "outputs": [
    {
     "data": {
      "text/plain": [
       "array([6, 3, 7, 4, 6, 9])"
      ]
     },
     "execution_count": 10,
     "metadata": {},
     "output_type": "execute_result"
    }
   ],
   "source": [
    "x"
   ]
  },
  {
   "cell_type": "code",
   "execution_count": 11,
   "id": "7d0fe958",
   "metadata": {
    "hidden": true
   },
   "outputs": [
    {
     "data": {
      "text/plain": [
       "7"
      ]
     },
     "execution_count": 11,
     "metadata": {},
     "output_type": "execute_result"
    }
   ],
   "source": [
    "x[2]"
   ]
  },
  {
   "cell_type": "code",
   "execution_count": 12,
   "id": "f0e20065",
   "metadata": {
    "hidden": true
   },
   "outputs": [
    {
     "data": {
      "text/plain": [
       "9"
      ]
     },
     "execution_count": 12,
     "metadata": {},
     "output_type": "execute_result"
    }
   ],
   "source": [
    "x[-1]"
   ]
  },
  {
   "cell_type": "markdown",
   "id": "25233f74",
   "metadata": {
    "hidden": true
   },
   "source": [
    "In multi dimensional arrays items are accessed using a comma separated tuple of indices\n"
   ]
  },
  {
   "cell_type": "code",
   "execution_count": 13,
   "id": "c909f0d5",
   "metadata": {
    "hidden": true
   },
   "outputs": [
    {
     "data": {
      "text/plain": [
       "array([[2, 6, 7, 4],\n",
       "       [3, 7, 7, 2],\n",
       "       [5, 4, 1, 7]])"
      ]
     },
     "execution_count": 13,
     "metadata": {},
     "output_type": "execute_result"
    }
   ],
   "source": [
    "y"
   ]
  },
  {
   "cell_type": "code",
   "execution_count": 14,
   "id": "4b190d50",
   "metadata": {
    "hidden": true
   },
   "outputs": [
    {
     "data": {
      "text/plain": [
       "2"
      ]
     },
     "execution_count": 14,
     "metadata": {},
     "output_type": "execute_result"
    }
   ],
   "source": [
    "y[0, 0]"
   ]
  },
  {
   "cell_type": "code",
   "execution_count": 18,
   "id": "763f71a1",
   "metadata": {
    "hidden": true
   },
   "outputs": [
    {
     "data": {
      "text/plain": [
       "7"
      ]
     },
     "execution_count": 18,
     "metadata": {},
     "output_type": "execute_result"
    }
   ],
   "source": [
    "y[2,-1]"
   ]
  },
  {
   "cell_type": "markdown",
   "id": "3e73aa2b",
   "metadata": {
    "heading_collapsed": true
   },
   "source": [
    "### Iterating through a numpy array"
   ]
  },
  {
   "cell_type": "markdown",
   "id": "7a23d687",
   "metadata": {
    "heading_collapsed": true,
    "hidden": true
   },
   "source": [
    "#### Using the range fuction"
   ]
  },
  {
   "cell_type": "code",
   "execution_count": 20,
   "id": "3813a76d",
   "metadata": {
    "hidden": true
   },
   "outputs": [
    {
     "data": {
      "text/plain": [
       "array([6, 3, 7, 4, 6, 9])"
      ]
     },
     "execution_count": 20,
     "metadata": {},
     "output_type": "execute_result"
    }
   ],
   "source": [
    "x"
   ]
  },
  {
   "cell_type": "code",
   "execution_count": 23,
   "id": "6693555b",
   "metadata": {
    "hidden": true
   },
   "outputs": [
    {
     "name": "stdout",
     "output_type": "stream",
     "text": [
      "6\n",
      "3\n",
      "7\n",
      "4\n",
      "6\n",
      "9\n"
     ]
    }
   ],
   "source": [
    "for i in range(len(x)):\n",
    "    print(x[i])"
   ]
  },
  {
   "cell_type": "markdown",
   "id": "6fae9493",
   "metadata": {
    "heading_collapsed": true,
    "hidden": true
   },
   "source": [
    "#### Using a for loop only"
   ]
  },
  {
   "cell_type": "code",
   "execution_count": 25,
   "id": "610e29ce",
   "metadata": {
    "hidden": true
   },
   "outputs": [
    {
     "data": {
      "text/plain": [
       "array([6, 3, 7, 4, 6, 9])"
      ]
     },
     "execution_count": 25,
     "metadata": {},
     "output_type": "execute_result"
    }
   ],
   "source": [
    "x"
   ]
  },
  {
   "cell_type": "code",
   "execution_count": 26,
   "id": "9fb9c9dd",
   "metadata": {
    "hidden": true
   },
   "outputs": [
    {
     "name": "stdout",
     "output_type": "stream",
     "text": [
      "6\n",
      "3\n",
      "7\n",
      "4\n",
      "6\n",
      "9\n"
     ]
    }
   ],
   "source": [
    "for item in x:\n",
    "    print(item)"
   ]
  },
  {
   "cell_type": "markdown",
   "id": "b4d1fb0c",
   "metadata": {
    "heading_collapsed": true,
    "hidden": true
   },
   "source": [
    "#### Using the enumerate function\n",
    "The enumerate function adds a counter to the array thus relieving the overhead of keeping a count of the elements while the iteration operation in running."
   ]
  },
  {
   "cell_type": "code",
   "execution_count": 30,
   "id": "df182ede",
   "metadata": {
    "hidden": true
   },
   "outputs": [
    {
     "data": {
      "text/plain": [
       "array([6, 3, 7, 4, 6, 9])"
      ]
     },
     "execution_count": 30,
     "metadata": {},
     "output_type": "execute_result"
    }
   ],
   "source": [
    "x"
   ]
  },
  {
   "cell_type": "code",
   "execution_count": 31,
   "id": "ee0c6cb1",
   "metadata": {
    "hidden": true
   },
   "outputs": [
    {
     "name": "stdout",
     "output_type": "stream",
     "text": [
      "0 : 6\n",
      "1 : 3\n",
      "2 : 7\n",
      "3 : 4\n",
      "4 : 6\n",
      "5 : 9\n"
     ]
    }
   ],
   "source": [
    "for index, value in enumerate(x):\n",
    "    print(index, ':', value)"
   ]
  },
  {
   "cell_type": "markdown",
   "id": "0330a007",
   "metadata": {},
   "source": [
    "### Array Manipulation"
   ]
  },
  {
   "cell_type": "markdown",
   "id": "b51a6e6d",
   "metadata": {
    "heading_collapsed": true
   },
   "source": [
    "#### Reshaping an Array"
   ]
  },
  {
   "cell_type": "code",
   "execution_count": 36,
   "id": "c42cff45",
   "metadata": {
    "hidden": true
   },
   "outputs": [
    {
     "name": "stdout",
     "output_type": "stream",
     "text": [
      "[ 1  2  3  4  5  6  7  8  9 10 11 12 13 14 15 16]\n",
      "The shape of array m is  (16,)\n"
     ]
    }
   ],
   "source": [
    "# Create an array with 16 elements\n",
    "m = np.arange(1, 17)\n",
    "print(m)\n",
    "print('The shape of array m is ', m.shape)"
   ]
  },
  {
   "cell_type": "code",
   "execution_count": 37,
   "id": "125cc76a",
   "metadata": {
    "hidden": true
   },
   "outputs": [
    {
     "name": "stdout",
     "output_type": "stream",
     "text": [
      "[[ 1  2  3  4]\n",
      " [ 5  6  7  8]\n",
      " [ 9 10 11 12]\n",
      " [13 14 15 16]]\n",
      "The shape of array m2 is  (4, 4)\n"
     ]
    }
   ],
   "source": [
    "m2 = m.reshape(4, 4)\n",
    "print(m2)\n",
    "print('The shape of array m2 is ', m2.shape)"
   ]
  },
  {
   "cell_type": "markdown",
   "id": "08022558",
   "metadata": {
    "heading_collapsed": true
   },
   "source": [
    "#### Adding an array together\n",
    "The same procedure applies for subtraction as well"
   ]
  },
  {
   "cell_type": "code",
   "execution_count": 38,
   "id": "ff7070b1",
   "metadata": {
    "hidden": true
   },
   "outputs": [
    {
     "name": "stdout",
     "output_type": "stream",
     "text": [
      "[ 2  4  6  8 10 12 14 16 18 20 22 24 26 28 30 32]\n"
     ]
    }
   ],
   "source": [
    "n = m + m\n",
    "print(n)"
   ]
  },
  {
   "cell_type": "code",
   "execution_count": 39,
   "id": "c8fa96cd",
   "metadata": {
    "hidden": true
   },
   "outputs": [
    {
     "ename": "ValueError",
     "evalue": "operands could not be broadcast together with shapes (16,) (4,4) ",
     "output_type": "error",
     "traceback": [
      "\u001b[1;31m---------------------------------------------------------------------------\u001b[0m",
      "\u001b[1;31mValueError\u001b[0m                                Traceback (most recent call last)",
      "\u001b[1;32m<ipython-input-39-ed6db22a47bc>\u001b[0m in \u001b[0;36m<module>\u001b[1;34m\u001b[0m\n\u001b[1;32m----> 1\u001b[1;33m \u001b[0mm\u001b[0m \u001b[1;33m+\u001b[0m \u001b[0mm2\u001b[0m\u001b[1;33m\u001b[0m\u001b[1;33m\u001b[0m\u001b[0m\n\u001b[0m",
      "\u001b[1;31mValueError\u001b[0m: operands could not be broadcast together with shapes (16,) (4,4) "
     ]
    }
   ],
   "source": [
    "# This throws a shape error because array m and m2 are not of the same shape\n",
    "m + m2"
   ]
  },
  {
   "cell_type": "markdown",
   "id": "de202979",
   "metadata": {
    "heading_collapsed": true
   },
   "source": [
    "#### Dot Product"
   ]
  },
  {
   "cell_type": "code",
   "execution_count": 41,
   "id": "9a065e82",
   "metadata": {
    "hidden": true
   },
   "outputs": [
    {
     "name": "stdout",
     "output_type": "stream",
     "text": [
      "[6 5]\n",
      "[7 3]\n"
     ]
    }
   ],
   "source": [
    "p = np.array([6, 5])\n",
    "q = np.array([7, 3])\n",
    "print(p)\n",
    "print(q)"
   ]
  },
  {
   "cell_type": "code",
   "execution_count": 43,
   "id": "d25622c7",
   "metadata": {
    "hidden": true
   },
   "outputs": [
    {
     "name": "stdout",
     "output_type": "stream",
     "text": [
      "57\n"
     ]
    }
   ],
   "source": [
    "#  the code below manually calculates dot product for p and q\n",
    "dot_product = 0\n",
    "for itema, itemb in zip(p, q):\n",
    "    dot_product += itema * itemb\n",
    "print(dot_product)"
   ]
  },
  {
   "cell_type": "code",
   "execution_count": 42,
   "id": "d6149c95",
   "metadata": {
    "hidden": true
   },
   "outputs": [
    {
     "name": "stdout",
     "output_type": "stream",
     "text": [
      "57\n"
     ]
    }
   ],
   "source": [
    "print(p.dot(q))"
   ]
  },
  {
   "cell_type": "markdown",
   "id": "e06dc00a",
   "metadata": {
    "heading_collapsed": true
   },
   "source": [
    "#### Matrix Multiplication\n",
    "\n",
    "In order to multiply two matrices together, the inner dimensions of the matrices must match. Meaning, the number of columns  of the left matrix should match the number of rows on the right matrix."
   ]
  },
  {
   "cell_type": "code",
   "execution_count": 47,
   "id": "8bc02353",
   "metadata": {
    "hidden": true
   },
   "outputs": [
    {
     "name": "stdout",
     "output_type": "stream",
     "text": [
      "[[4 5 6]\n",
      " [7 8 9]]\n",
      "########################\n",
      "[[1 2]\n",
      " [3 4]\n",
      " [5 6]]\n"
     ]
    }
   ],
   "source": [
    "e = np.array(([4, 5, 6], [7, 8, 9]))\n",
    "f = np.array(([1, 2], [3, 4], [5, 6]))\n",
    "print(e)\n",
    "print (\"########################\")\n",
    "print(f)"
   ]
  },
  {
   "cell_type": "code",
   "execution_count": 48,
   "id": "7e9258aa",
   "metadata": {
    "hidden": true
   },
   "outputs": [
    {
     "data": {
      "text/plain": [
       "array([[ 49,  64],\n",
       "       [ 76, 100]])"
      ]
     },
     "execution_count": 48,
     "metadata": {},
     "output_type": "execute_result"
    }
   ],
   "source": [
    "e.dot(f)"
   ]
  },
  {
   "cell_type": "code",
   "execution_count": 50,
   "id": "3de7cb9a",
   "metadata": {
    "hidden": true
   },
   "outputs": [
    {
     "data": {
      "text/plain": [
       "array([[ 49,  64],\n",
       "       [ 76, 100]])"
      ]
     },
     "execution_count": 50,
     "metadata": {},
     "output_type": "execute_result"
    }
   ],
   "source": [
    "# As of python 3.5 the '@' symbol also does matrix multiplication\n",
    "e @ f"
   ]
  },
  {
   "cell_type": "markdown",
   "id": "11201412",
   "metadata": {},
   "source": [
    "#### Matrix Transpose"
   ]
  },
  {
   "cell_type": "code",
   "execution_count": 51,
   "id": "f121b57f",
   "metadata": {},
   "outputs": [
    {
     "data": {
      "text/plain": [
       "array([[0, 1],\n",
       "       [2, 3]])"
      ]
     },
     "execution_count": 51,
     "metadata": {},
     "output_type": "execute_result"
    }
   ],
   "source": [
    "x = np.arange(4).reshape((2, 2))\n",
    "x"
   ]
  },
  {
   "cell_type": "code",
   "execution_count": 52,
   "id": "48a29a5d",
   "metadata": {},
   "outputs": [
    {
     "data": {
      "text/plain": [
       "array([[0, 2],\n",
       "       [1, 3]])"
      ]
     },
     "execution_count": 52,
     "metadata": {},
     "output_type": "execute_result"
    }
   ],
   "source": [
    "np.transpose(x)"
   ]
  },
  {
   "cell_type": "code",
   "execution_count": 55,
   "id": "666a8505",
   "metadata": {},
   "outputs": [
    {
     "name": "stdout",
     "output_type": "stream",
     "text": [
      "[[[[1. 1. 1. 1. 1.]\n",
      "   [1. 1. 1. 1. 1.]\n",
      "   [1. 1. 1. 1. 1.]\n",
      "   [1. 1. 1. 1. 1.]]\n",
      "\n",
      "  [[1. 1. 1. 1. 1.]\n",
      "   [1. 1. 1. 1. 1.]\n",
      "   [1. 1. 1. 1. 1.]\n",
      "   [1. 1. 1. 1. 1.]]\n",
      "\n",
      "  [[1. 1. 1. 1. 1.]\n",
      "   [1. 1. 1. 1. 1.]\n",
      "   [1. 1. 1. 1. 1.]\n",
      "   [1. 1. 1. 1. 1.]]]\n",
      "\n",
      "\n",
      " [[[1. 1. 1. 1. 1.]\n",
      "   [1. 1. 1. 1. 1.]\n",
      "   [1. 1. 1. 1. 1.]\n",
      "   [1. 1. 1. 1. 1.]]\n",
      "\n",
      "  [[1. 1. 1. 1. 1.]\n",
      "   [1. 1. 1. 1. 1.]\n",
      "   [1. 1. 1. 1. 1.]\n",
      "   [1. 1. 1. 1. 1.]]\n",
      "\n",
      "  [[1. 1. 1. 1. 1.]\n",
      "   [1. 1. 1. 1. 1.]\n",
      "   [1. 1. 1. 1. 1.]\n",
      "   [1. 1. 1. 1. 1.]]]]\n",
      "#################\n",
      "The shape of matrix y is  (2, 3, 4, 5)\n"
     ]
    }
   ],
   "source": [
    "y = np.ones((2, 3, 4, 5))\n",
    "print(y)\n",
    "print('#################')\n",
    "print('The shape of matrix y is ', y.shape)"
   ]
  },
  {
   "cell_type": "code",
   "execution_count": 56,
   "id": "ca97e7e6",
   "metadata": {},
   "outputs": [
    {
     "name": "stdout",
     "output_type": "stream",
     "text": [
      "[[[[1. 1.]\n",
      "   [1. 1.]\n",
      "   [1. 1.]]\n",
      "\n",
      "  [[1. 1.]\n",
      "   [1. 1.]\n",
      "   [1. 1.]]\n",
      "\n",
      "  [[1. 1.]\n",
      "   [1. 1.]\n",
      "   [1. 1.]]\n",
      "\n",
      "  [[1. 1.]\n",
      "   [1. 1.]\n",
      "   [1. 1.]]]\n",
      "\n",
      "\n",
      " [[[1. 1.]\n",
      "   [1. 1.]\n",
      "   [1. 1.]]\n",
      "\n",
      "  [[1. 1.]\n",
      "   [1. 1.]\n",
      "   [1. 1.]]\n",
      "\n",
      "  [[1. 1.]\n",
      "   [1. 1.]\n",
      "   [1. 1.]]\n",
      "\n",
      "  [[1. 1.]\n",
      "   [1. 1.]\n",
      "   [1. 1.]]]\n",
      "\n",
      "\n",
      " [[[1. 1.]\n",
      "   [1. 1.]\n",
      "   [1. 1.]]\n",
      "\n",
      "  [[1. 1.]\n",
      "   [1. 1.]\n",
      "   [1. 1.]]\n",
      "\n",
      "  [[1. 1.]\n",
      "   [1. 1.]\n",
      "   [1. 1.]]\n",
      "\n",
      "  [[1. 1.]\n",
      "   [1. 1.]\n",
      "   [1. 1.]]]\n",
      "\n",
      "\n",
      " [[[1. 1.]\n",
      "   [1. 1.]\n",
      "   [1. 1.]]\n",
      "\n",
      "  [[1. 1.]\n",
      "   [1. 1.]\n",
      "   [1. 1.]]\n",
      "\n",
      "  [[1. 1.]\n",
      "   [1. 1.]\n",
      "   [1. 1.]]\n",
      "\n",
      "  [[1. 1.]\n",
      "   [1. 1.]\n",
      "   [1. 1.]]]\n",
      "\n",
      "\n",
      " [[[1. 1.]\n",
      "   [1. 1.]\n",
      "   [1. 1.]]\n",
      "\n",
      "  [[1. 1.]\n",
      "   [1. 1.]\n",
      "   [1. 1.]]\n",
      "\n",
      "  [[1. 1.]\n",
      "   [1. 1.]\n",
      "   [1. 1.]]\n",
      "\n",
      "  [[1. 1.]\n",
      "   [1. 1.]\n",
      "   [1. 1.]]]]\n",
      "##################\n",
      "The shape of matrix z is  (5, 4, 3, 2)\n"
     ]
    }
   ],
   "source": [
    "z = np.transpose(y)\n",
    "print(z)\n",
    "print('##################')\n",
    "print('The shape of matrix z is ', z.shape)"
   ]
  },
  {
   "cell_type": "code",
   "execution_count": null,
   "id": "0bed9d9a",
   "metadata": {},
   "outputs": [],
   "source": []
  }
 ],
 "metadata": {
  "kernelspec": {
   "display_name": "Python 3",
   "language": "python",
   "name": "python3"
  },
  "language_info": {
   "codemirror_mode": {
    "name": "ipython",
    "version": 3
   },
   "file_extension": ".py",
   "mimetype": "text/x-python",
   "name": "python",
   "nbconvert_exporter": "python",
   "pygments_lexer": "ipython3",
   "version": "3.8.8"
  }
 },
 "nbformat": 4,
 "nbformat_minor": 5
}
