{
 "cells": [
  {
   "cell_type": "markdown",
   "id": "7e134cd4",
   "metadata": {},
   "source": [
    "[![Open In Colab](https://colab.research.google.com/assets/colab-badge.svg)](https://colab.research.google.com/github/HURU-School/HURUAI/blob/main/Lesson%202/Lesson%202%20-%20How%20ANN's%20Work.ipynb)"
   ]
  },
  {
   "cell_type": "markdown",
   "id": "876caebb",
   "metadata": {},
   "source": [
    "#  How Artificial Neural Networks work"
   ]
  },
  {
   "cell_type": "markdown",
   "id": "8de0ecbb",
   "metadata": {},
   "source": [
    "To understand the working of ANN's we need to go back to programming before ANN's. A typical computer program flow structure would look as below.\n",
    "\n",
    "![computer program flow](../images/Lesson_1/computer_program_flow.PNG)\n",
    "\n",
    "An **Algorithm** is a step by step procedure to solve a problem. From the studies of **Big O Notation**, do not worry if this sound greek to you, we know that how we write our algorithms is key to the efficient working of our solution. When writing an algorithm for a complex task, say our earlier example of a person approaching from a far, it is quite difficult to outline the step by step procedure of identifying this person. This is further complicated by requiring us to identify multiple people. And how will we handle the internal workings of computers and programming languages? You can see how quickly, the difficulty with this problem escallates.  \n",
    "Arthur Samuel, on realizing this challenge, suggested a new way to handle such complex tasks. He suggested:  \n",
    "  \"Instead of defining this step by step procedures, how about showing the computer examples of the problem to learn and let it figure out on its own how to go about handling the internal workings.\"  \n",
    "To assist the machine in solving the task we will,  \n",
    "\"Assign weights to the inputs and arrange for some automatic way to test for the effectiveness of the weight assignment interms of performance and provide a mechanism to alter the weight assignment such that we maximize performance.\"\n",
    "\n",
    "With this inmind, we first update our program flow to include weights with each input. The new structure will now look as below:\n",
    "\n",
    "![weighted Inputs program flow](../images/Lesson_1/simple_dl_flow.PNG)\n",
    "\n",
    "The program structure above has some unique features:\n",
    "  * The output is now a function of the inputs, weights and the model.\n",
    "  * By altering the weights applied we can maximize the performance of this model.\n",
    "\n",
    "Such a program would result in a new flow structure as illustrated below:\n",
    "\n",
    "![Deep Learning Program Flow](../images/Lesson_1/dl_detail_flow.PNG)\n",
    "\n",
    "Once we have iterated through the process enough times and have a set of weights that gives us the best performance on the model, we can combine the model with the updated weights and have a computer run this program just like any other.\n",
    "\n",
    "![computer program flow](../images/Lesson_1/trained_model_flow.PNG)"
   ]
  },
  {
   "cell_type": "markdown",
   "id": "58783c41",
   "metadata": {},
   "source": [
    "## Where exactly do neural networks fit in?"
   ]
  },
  {
   "cell_type": "markdown",
   "id": "812ae683",
   "metadata": {},
   "source": [
    "In the introductory class, we noted that for a solution to be considered an AI solution, it must showcase *Adaptability*. With neural networks, the goal is to have a function, that when plugged into the model, can cause the model to do anything. This function exists and is called a **neural network.** The *universal approximation theorem* shows that in theory, this function can solve for any problem to any level of accuracy.  \n",
    "How then would we train this networks? By training we mean finding an optimal set of weights for the model. The process is called **Stochastic Gradient Descent.**"
   ]
  },
  {
   "cell_type": "markdown",
   "id": "497152fd",
   "metadata": {},
   "source": [
    "### A few terminology updates"
   ]
  },
  {
   "cell_type": "markdown",
   "id": "1b572b4f",
   "metadata": {},
   "source": [
    "Since the 60's when Arthur Samuel was working on this, some terminologies have changed:\n",
    "  * The functional form of the model is called the **architecture.**\n",
    "  * The weights are called **parameters.**\n",
    "  * The results of the model are called **Predictions.**\n",
    "  * The measure of performance is called **Loss.**\n",
    "  * The loss depends on the predictions and the labels.\n",
    "  \n",
    "With that our new program flow for training an AI algorithm is updated as below.\n",
    "![DL Program Flow](../images/Lesson_1/dl_flow.PNG)"
   ]
  },
  {
   "cell_type": "markdown",
   "id": "7cfa117f",
   "metadata": {},
   "source": [
    "## Limitations of Neural Networks"
   ]
  },
  {
   "cell_type": "markdown",
   "id": "be12cc8d",
   "metadata": {},
   "source": [
    "  * A model cannot be created without data\n",
    "  * A model can only discover patterns in the data used to train it\n",
    "  * The model only gives us predictions, We still need to interprete what that means.\n",
    "  * We require labelled data to train this model"
   ]
  }
 ],
 "metadata": {
  "kernelspec": {
   "display_name": "Python 3",
   "language": "python",
   "name": "python3"
  },
  "language_info": {
   "codemirror_mode": {
    "name": "ipython",
    "version": 3
   },
   "file_extension": ".py",
   "mimetype": "text/x-python",
   "name": "python",
   "nbconvert_exporter": "python",
   "pygments_lexer": "ipython3",
   "version": "3.8.8"
  }
 },
 "nbformat": 4,
 "nbformat_minor": 5
}
