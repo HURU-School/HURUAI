{
 "cells": [
  {
   "cell_type": "markdown",
   "id": "e6eb4a54",
   "metadata": {},
   "source": [
    "[![Open In Colab](https://colab.research.google.com/assets/colab-badge.svg)](https://githubtocolab.com/HURU-School/HURUAI/blob/main/Lesson%202/07-First%20Model%20Breakdown.ipynb)"
   ]
  },
  {
   "cell_type": "markdown",
   "id": "c75f0926",
   "metadata": {},
   "source": [
    "# Breaking Down Our First Model\n",
    "Previously, we just ran through our first model and got to see the process involved in developing a deep learning model. Some parts might seem easy to understand, some parts not so much. In this section, we will break down each and every part of the code and really just dive deep into the inner workings of the model and how we built it from end to end. We will keep the structure we had earlier so that it is easy for us to follow along and compare what we are doing here to what we did earlier when training our first model. Let's Go!!!"
   ]
  },
  {
   "cell_type": "markdown",
   "id": "4bf30cd0",
   "metadata": {},
   "source": [
    "## Fashion MNIST\n",
    "Let's make it even more interesting. Let's switch and use a different dataset this time round. We will use the _Fashion Mnist_ dataset provided by torchvision, pytorch's machine vision library. Like MNIST, this dataset contains grayscale images, of sizes 28 * 28 pixels, of ten clothing types ('T-shirt/top', 'Trouser', 'Pullover', 'Dress', 'Coat', 'Sandal', 'Shirt', 'Sneaker','Bag', 'Ankle Boot'). The image below shows a representation of the dataset.\n",
    "![Fashion_Mnist](../images/Lesson_2/fashion-mnist.png)  "
   ]
  },
  {
   "cell_type": "markdown",
   "id": "a6814998",
   "metadata": {},
   "source": [
    "### Setting Up Our Development Enironment"
   ]
  },
  {
   "cell_type": "markdown",
   "id": "a0942bc3",
   "metadata": {},
   "source": [
    "#### Mounting Colab to Gdrive"
   ]
  },
  {
   "cell_type": "code",
   "execution_count": 2,
   "id": "ba0b0e45",
   "metadata": {},
   "outputs": [
    {
     "ename": "ModuleNotFoundError",
     "evalue": "No module named 'google'",
     "output_type": "error",
     "traceback": [
      "\u001b[1;31m---------------------------------------------------------------------------\u001b[0m",
      "\u001b[1;31mModuleNotFoundError\u001b[0m                       Traceback (most recent call last)",
      "\u001b[1;32m<ipython-input-2-1d99732a4226>\u001b[0m in \u001b[0;36m<module>\u001b[1;34m\u001b[0m\n\u001b[0;32m      1\u001b[0m \u001b[1;31m#  Mounts Google Colab on Gdrive.\u001b[0m\u001b[1;33m\u001b[0m\u001b[1;33m\u001b[0m\u001b[1;33m\u001b[0m\u001b[0m\n\u001b[1;32m----> 2\u001b[1;33m \u001b[1;32mfrom\u001b[0m \u001b[0mgoogle\u001b[0m\u001b[1;33m.\u001b[0m\u001b[0mcolab\u001b[0m \u001b[1;32mimport\u001b[0m \u001b[0mdrive\u001b[0m\u001b[1;33m\u001b[0m\u001b[1;33m\u001b[0m\u001b[0m\n\u001b[0m\u001b[0;32m      3\u001b[0m \u001b[0mdrive\u001b[0m\u001b[1;33m.\u001b[0m\u001b[0mmount\u001b[0m\u001b[1;33m(\u001b[0m\u001b[1;34m'/content/gdrive'\u001b[0m\u001b[1;33m)\u001b[0m\u001b[1;33m\u001b[0m\u001b[1;33m\u001b[0m\u001b[0m\n",
      "\u001b[1;31mModuleNotFoundError\u001b[0m: No module named 'google'"
     ]
    }
   ],
   "source": [
    "#  Mounts Google Colab on Gdrive.\n",
    "from google.colab import drive\n",
    "drive.mount('/content/gdrive')"
   ]
  },
  {
   "cell_type": "markdown",
   "id": "5b90b7e2",
   "metadata": {},
   "source": [
    "#### Move to our Working Directory"
   ]
  },
  {
   "cell_type": "code",
   "execution_count": 3,
   "id": "362321e7",
   "metadata": {},
   "outputs": [
    {
     "name": "stdout",
     "output_type": "stream",
     "text": [
      "[WinError 3] The system cannot find the path specified: '/content/gdrive/My Drive/HuruAI'\n",
      "E:\\Courses\\DeepLearning\\Huru\\Lesson 2\n"
     ]
    }
   ],
   "source": [
    "%cd /content/gdrive/My Drive/HuruAI"
   ]
  },
  {
   "cell_type": "markdown",
   "id": "a5d126bf",
   "metadata": {},
   "source": [
    "#### Notebook Setup"
   ]
  },
  {
   "cell_type": "code",
   "execution_count": 4,
   "id": "603ec29c",
   "metadata": {},
   "outputs": [],
   "source": [
    "# The code below sets us up with some nice formatting for our plots.\n",
    "\n",
    "%matplotlib inline\n",
    "%config InlineBackend.figure_format = 'retina'"
   ]
  },
  {
   "cell_type": "code",
   "execution_count": 5,
   "id": "c5ad147f",
   "metadata": {},
   "outputs": [],
   "source": [
    "# Import the required packages\n",
    "\n",
    "import numpy as np\n",
    "\n",
    "import torch\n",
    "from torch import nn, optim\n",
    "import torch.nn.functional as F\n",
    "from torchvision import datasets, transforms\n",
    "\n",
    "import matplotlib.pyplot as plt"
   ]
  },
  {
   "cell_type": "markdown",
   "id": "1261a60f",
   "metadata": {},
   "source": [
    "#### Define a plot funtion that takes an image and returns it's predicted Class.\n",
    "This part is usually not included here. It can be written on a separate page and imported. But I will leave it here so that we do not have to deal with the complexities."
   ]
  },
  {
   "cell_type": "code",
   "execution_count": 6,
   "id": "692abdcf",
   "metadata": {},
   "outputs": [],
   "source": [
    "def image_preds(image, probs):\n",
    "    ''' This function is for viewing an image and its predicted class.\n",
    "    '''\n",
    "    probs = probs.data.numpy().squeeze()\n",
    "\n",
    "    fig, (ax1, ax2) = plt.subplots(figsize=(6,9), ncols=2)\n",
    "    ax1.imshow(image.resize_(1, 28, 28).numpy().squeeze())\n",
    "    ax1.axis('off')\n",
    "    ax2.barh(np.arange(10), probs)\n",
    "    ax2.set_aspect(0.1)\n",
    "    ax2.set_yticks(np.arange(10))\n",
    "    ax2.set_yticklabels(['T-shirt/top',\n",
    "                            'Trouser',\n",
    "                            'Pullover',\n",
    "                            'Dress',\n",
    "                            'Coat',\n",
    "                            'Sandal',\n",
    "                            'Shirt',\n",
    "                            'Sneaker',\n",
    "                            'Bag',\n",
    "                            'Ankle Boot'], size='small');\n",
    "    ax2.set_title('Returned Class Probabilities')\n",
    "    ax2.set_xlim(0, 1.1)\n",
    "\n",
    "    plt.tight_layout()"
   ]
  },
  {
   "cell_type": "markdown",
   "id": "0208420a",
   "metadata": {},
   "source": [
    "### Preparing the Dataset"
   ]
  },
  {
   "cell_type": "markdown",
   "id": "0e68e9bd",
   "metadata": {},
   "source": [
    "#### Defining Our Transforms\n",
    "Transforms are a way to add variety to our data. Common transforms include:\n",
    "  * Centre Crop - Crops a given image at the centre.\n",
    "  * Color Jitter - randomly changing the brightness, hue, saturation or contrast in an image.\n",
    "  * Grayscale - Converts a color image to grascale\n",
    "  * Random Horizontal Flip - Horizontally flips random images in  a dataset  \n",
    "  \n",
    "Feel free to check out the [transforms documentation](https://pytorch.org/vision/stable/transforms.html) here.  \n",
    "There are more transforms than these. You can read more about these transforms and what they do from the torchvision transforms documentation. In addition, we convert the images in our dataset into tensor datatypes and normalize the data as well. Color in a computer is represented as an integer with values between 0 - 255. Normalizing the tensors scales the values thus the model train faster. In the Normalize function, we pass the mean and standard deviation the function will use to normalize the data. In this case, we pass (0.5, 0.5)\n",
    "$$\n",
    "image = (image-mean) / std\n",
    "$$\n",
    "This normalizes the image to a range of [-1, 1]."
   ]
  },
  {
   "cell_type": "code",
   "execution_count": 7,
   "id": "8d3a43b9",
   "metadata": {},
   "outputs": [],
   "source": [
    "# Define a transform to normalize the data\n",
    "transform = transforms.Compose([transforms.ToTensor(),\n",
    "                              transforms.Normalize((0.5,), (0.5,)),\n",
    "                              ])"
   ]
  },
  {
   "cell_type": "markdown",
   "id": "0c12b775",
   "metadata": {},
   "source": [
    "#### Downloading the Dataset\n",
    "We then download the dataset and apply the transfomations defined above. Data loaders provide a convenient way to load our datasets. They match each image to its label,  batch the data into the defined batch sizes and shuffle the data everytime the we are going through the dataloader, to reduce bias. Samplers can also be defined here if the dataset is imbalanced."
   ]
  },
  {
   "cell_type": "code",
   "execution_count": 8,
   "id": "98b6d013",
   "metadata": {},
   "outputs": [],
   "source": [
    "# Download and load the training data\n",
    "trainset = datasets.FashionMNIST('./Data', download=True, train=True, transform=transform)\n",
    "trainloader = torch.utils.data.DataLoader(trainset, batch_size=64, shuffle=True)\n",
    "\n",
    "# Download and load the test data\n",
    "testset = datasets.FashionMNIST('./Data', download=True, train=False, transform=transform)\n",
    "testloader = torch.utils.data.DataLoader(testset, batch_size=64, shuffle=True)"
   ]
  },
  {
   "cell_type": "markdown",
   "id": "caf632c4",
   "metadata": {},
   "source": [
    "#### Prepare an iterator\n",
    "We prepare an iterator that will allow us to loop through our data loader, each time picking an image with its corresponding label as shown below\n",
    "```python\n",
    "for image, label in trainloader:\n",
    "    ## What to do with the image and label.\n",
    "```"
   ]
  },
  {
   "cell_type": "code",
   "execution_count": 9,
   "id": "e038d194",
   "metadata": {},
   "outputs": [
    {
     "name": "stdout",
     "output_type": "stream",
     "text": [
      "<class 'torch.Tensor'>\n",
      "torch.Size([64, 1, 28, 28])\n",
      "torch.Size([64])\n"
     ]
    }
   ],
   "source": [
    "train_iterator = iter(trainloader)\n",
    "images, labels = train_iterator.next()\n",
    "print(type(images))\n",
    "print(images.shape)\n",
    "print(labels.shape)"
   ]
  },
  {
   "cell_type": "markdown",
   "id": "6227abd8",
   "metadata": {},
   "source": [
    "We can then print out an image from the data loader as below"
   ]
  },
  {
   "cell_type": "code",
   "execution_count": 10,
   "id": "b26ff9bc",
   "metadata": {},
   "outputs": [
    {
     "data": {
      "image/png": "[encoded data removed]",
      "text/plain": [
       "<Figure size 432x288 with 1 Axes>"
      ]
     },
     "metadata": {
      "image/png": {
       "height": 248,
       "width": 251
      },
      "needs_background": "light"
     },
     "output_type": "display_data"
    }
   ],
   "source": [
    "plt.imshow(images[9].numpy().squeeze(), cmap='Greys_r');"
   ]
  },
  {
   "cell_type": "markdown",
   "id": "a9c52b30",
   "metadata": {},
   "source": [
    "### Building Our Network\n",
    "The network we implemented in our first model is called a _fully connected_ or _dense network_. In this network, each unit in a layer is connected to every other unit in the next layer. The input to this network MUST be a 1-D tensor. Since our images are 2-D tensors i.e (28 * 28 pixels), we need to convert them to 1-D tensors. This process is called [_flattening._ ](https://pytorch.org/docs/stable/generated/torch.flatten.html)We convert the shape from (64, 1, 28, 28) to (64, 784).\n",
    "Similar to the network before, we need 10 output units, one for each class of clothing item we would like to predict. We calculate the probability that the image provided is of any one class or clothing defined in our labels. This is known as a _discrete probability distribution calculated over the classes(clothing) telling us the most likely class."
   ]
  },
  {
   "cell_type": "markdown",
   "id": "445ffa72",
   "metadata": {},
   "source": [
    "#### The Network Architecture"
   ]
  },
  {
   "cell_type": "markdown",
   "id": "eb61847d",
   "metadata": {},
   "source": [
    "Our network consists of an input layer, two hidden layers and an output layer. Typically, the network will need to be _deeper_ than this, but we are keeping things simple. Our network will look as below.\n",
    "![Network architecture](../images/Lesson_2/nn.png)  "
   ]
  },
  {
   "cell_type": "markdown",
   "id": "5abcddec",
   "metadata": {},
   "source": [
    "#### Building Our Network Purely from Tensors\n",
    "In this section we will explore building the network purely from weight matrices. Next, we will explore using torch's nn module to build the network. "
   ]
  },
  {
   "cell_type": "markdown",
   "id": "40f11a9c",
   "metadata": {},
   "source": [
    "##### Define our activation function\n",
    "In the first network, we used a ReLU activation function. For this we will switch things up an explore a new activation function, _the sigmoid activation function_. Mathematically, it is expressed as below:\n",
    "$$\n",
    "\\sigma(x) = \\frac{1}{1 + e^{-x}}\n",
    "$$\n",
    "Graphically, the function is represented as below.\n",
    "![Sigmoid Function](../images/Lesson_2/sigmoid.PNG)  "
   ]
  },
  {
   "cell_type": "code",
   "execution_count": 11,
   "id": "31c1b946",
   "metadata": {},
   "outputs": [],
   "source": [
    "## Initialize the sigmoid activation function.\n",
    "\n",
    "def activation(x):\n",
    "    return 1/(1+torch.exp(-x))\n"
   ]
  },
  {
   "cell_type": "markdown",
   "id": "62b58f3b",
   "metadata": {},
   "source": [
    "##### Flatten the Input Images"
   ]
  },
  {
   "cell_type": "code",
   "execution_count": 12,
   "id": "8545f266",
   "metadata": {},
   "outputs": [],
   "source": [
    "# Flatten the input images\n",
    "inputs = images.view(images.shape[0], -1)"
   ]
  },
  {
   "cell_type": "markdown",
   "id": "ad2de0b2",
   "metadata": {},
   "source": [
    "##### Randomly Initialize Our Weights and Bias"
   ]
  },
  {
   "cell_type": "code",
   "execution_count": 13,
   "id": "d913fc94",
   "metadata": {},
   "outputs": [],
   "source": [
    "# Initializing Weights and Bias\n",
    "w1 = torch.randn(784, 256)\n",
    "b1 = torch.randn(256)\n",
    "\n",
    "w2 = torch.randn(256, 64)\n",
    "b2 = torch.randn(64)\n",
    "\n",
    "w3 = torch.randn(64, 10)\n",
    "b3 = torch.randn(10)\n",
    "\n",
    "h1 = activation(torch.mm(inputs, w1) + b1)\n",
    "\n",
    "h2 = activation(torch.mm(h1, w2) + b2)\n",
    "\n",
    "out = torch.mm(h2, w3) + b3"
   ]
  },
  {
   "cell_type": "markdown",
   "id": "ddc6d49d",
   "metadata": {},
   "source": [
    "##### Calculate Probability Distribution\n",
    "The probability distribution is calculated by applying a _softmax function_ across the 10 classes. Mathematically, this function is represented as below:\n",
    "$$\n",
    "\\Large \\sigma(x_i) = \\cfrac{e^{x_i}}{\\sum_k^K{e^{x_k}}}\n",
    "$$\n",
    "It mashes each input x into a range between 0 and 1, then normalizes the values resulting in a proper distribution with the values all adding up to one."
   ]
  },
  {
   "cell_type": "code",
   "execution_count": 14,
   "id": "33120c10",
   "metadata": {},
   "outputs": [
    {
     "name": "stdout",
     "output_type": "stream",
     "text": [
      "torch.Size([64, 10])\n",
      "tensor([1.0000, 1.0000, 1.0000, 1.0000, 1.0000, 1.0000, 1.0000, 1.0000, 1.0000,\n",
      "        1.0000, 1.0000, 1.0000, 1.0000, 1.0000, 1.0000, 1.0000, 1.0000, 1.0000,\n",
      "        1.0000, 1.0000, 1.0000, 1.0000, 1.0000, 1.0000, 1.0000, 1.0000, 1.0000,\n",
      "        1.0000, 1.0000, 1.0000, 1.0000, 1.0000, 1.0000, 1.0000, 1.0000, 1.0000,\n",
      "        1.0000, 1.0000, 1.0000, 1.0000, 1.0000, 1.0000, 1.0000, 1.0000, 1.0000,\n",
      "        1.0000, 1.0000, 1.0000, 1.0000, 1.0000, 1.0000, 1.0000, 1.0000, 1.0000,\n",
      "        1.0000, 1.0000, 1.0000, 1.0000, 1.0000, 1.0000, 1.0000, 1.0000, 1.0000,\n",
      "        1.0000])\n"
     ]
    }
   ],
   "source": [
    "## Define the softmax function\n",
    "\n",
    "def softmax(x):\n",
    "    return torch.exp(x)/torch.sum(torch.exp(x), dim=1).view(-1, 1)\n",
    "\n",
    "probabilities = softmax(out)\n",
    "\n",
    "# Confirm that indeed the shape is (64, 10)\n",
    "print(probabilities.shape)\n",
    "# Confirm that the probabilirs all add up to 1\n",
    "print(probabilities.sum(dim=1))"
   ]
  },
  {
   "cell_type": "markdown",
   "id": "5c822f7b",
   "metadata": {},
   "source": [
    "#### Building the Network with Pytorch's _nn_ Module\n",
    "Torch provides a handy module called _nn_, that makes building neural networks from scratch pretty easy.\n",
    "First we inherit from the _nn.Module_ class, combine this with *super().__init__* function, will create a python class object with some useful methods and attributes. \n",
    "\n",
    "```python\n",
    "self.hidden = nn.Linear(784, 256)\n",
    "```\n",
    "The line above will create a module for a linear transformation $x\\mathbf{W} + b$, with 784 units as input and 256 units as output. Hidden layer 1 to hidden layer 2's transformation follows a similar approach with 256 units as input and 64 unts as output, as does the output layer, with 64 inputs and 10 outputs. \n",
    "Next we define the sigmoid activation function and the softmax output function. Setting (dim=1) calculates the softmax output across the columns only.\n",
    "The nn module requires a forward function. The function takes an input tensor and passes it through the transformations defines in the *__init__ function*.  \n",
    "**Note:** Order is not particularly important in the *__init__* definition but it is crucial in the forward method."
   ]
  },
  {
   "cell_type": "code",
   "execution_count": 15,
   "id": "6d4dc9d2",
   "metadata": {},
   "outputs": [],
   "source": [
    "# Instantiate the Network\n",
    "\n",
    "class Net(nn.Module):\n",
    "    def __init__(self):\n",
    "        super().__init__()\n",
    "        \n",
    "        # Inputs to hidden layer 1 linear transformation\n",
    "        self.hidden1 = nn.Linear(784, 256)\n",
    "        # Hidden Layer 1 to hidden layer 2 linear transformation\n",
    "        self.hidden2 = nn.Linear(256, 64)\n",
    "        # Output layer, 10 units - one for each item of clothing\n",
    "        self.output = nn.Linear(64, 10)\n",
    "        \n",
    "        # Define sigmoid activation and softmax output \n",
    "        self.sigmoid = nn.Sigmoid()\n",
    "        self.softmax = nn.Softmax(dim=1)\n",
    "        \n",
    "    def forward(self, x):\n",
    "        # Pass the input tensor through each of our operations\n",
    "        x = self.hidden1(x)\n",
    "        x = self.sigmoid(x)\n",
    "        x = self.hidden2(x)\n",
    "        x = self.sigmoid(x)\n",
    "        x = self.output(x)\n",
    "        x = self.softmax(x)\n",
    "        \n",
    "        return x"
   ]
  },
  {
   "cell_type": "code",
   "execution_count": 16,
   "id": "6045b842",
   "metadata": {},
   "outputs": [
    {
     "data": {
      "text/plain": [
       "Net(\n",
       "  (hidden1): Linear(in_features=784, out_features=256, bias=True)\n",
       "  (hidden2): Linear(in_features=256, out_features=64, bias=True)\n",
       "  (output): Linear(in_features=64, out_features=10, bias=True)\n",
       "  (sigmoid): Sigmoid()\n",
       "  (softmax): Softmax(dim=1)\n",
       ")"
      ]
     },
     "execution_count": 16,
     "metadata": {},
     "output_type": "execute_result"
    }
   ],
   "source": [
    "# Initialize the network\n",
    "\n",
    "model = Net()\n",
    "model"
   ]
  },
  {
   "cell_type": "markdown",
   "id": "027ddf9c",
   "metadata": {},
   "source": [
    "#### Building the network using Pytorch's *nn.functional* Module\n",
    "This module provides a more concise way to build the network architecture. This is by far the most common way to build network architectures in pytorch."
   ]
  },
  {
   "cell_type": "code",
   "execution_count": 17,
   "id": "4bdf8f5f",
   "metadata": {},
   "outputs": [],
   "source": [
    "# Instantiate the network\n",
    "class Net(nn.Module):\n",
    "    def __init__(self):\n",
    "        super().__init__()\n",
    "        # Inputs to hidden layer 1 linear transformation\n",
    "        self.hidden1 = nn.Linear(784, 256)\n",
    "        # Hidden Layer 1 to hidden layer 2 linear transformation\n",
    "        self.hidden2 = nn.Linear(256, 64)\n",
    "        # Output layer, 10 units - one for each item of clothing\n",
    "        self.output = nn.Linear(64, 10)\n",
    "        \n",
    "    def forward(self, x):\n",
    "        # Hidden layer 1 with sigmoid activation\n",
    "        x = F.sigmoid(self.hidden1(x))\n",
    "        # Hidden layer 2 with sigmoid activation\n",
    "        x = F.sigmoid(self.hidden2(x))\n",
    "        # Output layer with softmax activation\n",
    "        x = F.softmax(self.output(x), dim=1)\n",
    "        \n",
    "        return x"
   ]
  },
  {
   "cell_type": "markdown",
   "id": "fdfc5e6b",
   "metadata": {},
   "source": [
    "##### Weights and Bias Initialization\n",
    "The weights and biases are initialized, from a random distribution function, for you automatically, unlike when we were building purely from tensors. "
   ]
  },
  {
   "cell_type": "code",
   "execution_count": 18,
   "id": "69411593",
   "metadata": {},
   "outputs": [
    {
     "name": "stdout",
     "output_type": "stream",
     "text": [
      "Parameter containing:\n",
      "tensor([[ 0.0049,  0.0030,  0.0249,  ..., -0.0140, -0.0078, -0.0256],\n",
      "        [ 0.0014, -0.0007,  0.0315,  ..., -0.0105, -0.0163, -0.0035],\n",
      "        [ 0.0114,  0.0139, -0.0087,  ..., -0.0165, -0.0275,  0.0110],\n",
      "        ...,\n",
      "        [ 0.0032,  0.0353,  0.0177,  ..., -0.0165,  0.0053, -0.0106],\n",
      "        [-0.0276,  0.0099,  0.0016,  ...,  0.0208, -0.0332,  0.0335],\n",
      "        [-0.0077, -0.0162,  0.0328,  ..., -0.0332, -0.0353,  0.0233]],\n",
      "       requires_grad=True)\n",
      "Parameter containing:\n",
      "tensor([-2.0841e-02, -2.3743e-02,  3.1424e-02,  2.3584e-02,  2.0318e-02,\n",
      "        -2.7729e-02, -5.8504e-03, -1.1017e-02, -6.1764e-03, -3.5677e-02,\n",
      "        -5.7657e-03,  5.8440e-03,  2.4944e-02, -3.0856e-02,  3.1562e-03,\n",
      "         5.9146e-03, -2.0616e-02,  2.3171e-02,  1.1217e-02,  3.3556e-02,\n",
      "         3.8037e-04,  9.6932e-03, -1.0470e-02, -1.6076e-02,  9.5682e-03,\n",
      "        -3.3347e-02, -1.8517e-03, -1.6441e-02,  2.1447e-02,  8.8641e-03,\n",
      "         1.2067e-02,  3.1202e-02, -1.5467e-02,  2.4294e-02, -1.8865e-02,\n",
      "         2.3149e-02,  1.9286e-02, -1.9578e-02, -2.1032e-02,  2.6222e-02,\n",
      "         4.6849e-04, -3.7638e-03,  3.3769e-02, -2.1211e-02, -3.4687e-02,\n",
      "        -9.4516e-03,  8.1904e-03,  1.7950e-02,  1.9674e-02, -1.1819e-03,\n",
      "        -2.1021e-02,  1.0983e-02,  2.9509e-02,  3.1504e-02, -7.5987e-03,\n",
      "         3.4073e-02,  1.2666e-02,  1.8843e-02, -2.2724e-02, -2.5517e-02,\n",
      "         2.4630e-02,  3.0710e-02, -2.5617e-02,  2.9388e-03, -9.9565e-03,\n",
      "         3.4691e-02,  1.4705e-03,  3.0304e-02, -3.2577e-02,  2.9286e-02,\n",
      "        -3.4710e-02, -3.3171e-02,  2.5100e-02,  2.0355e-02, -3.1121e-02,\n",
      "        -8.6287e-04, -2.8238e-02,  1.4050e-02,  4.0556e-03,  4.8977e-03,\n",
      "        -2.6414e-02,  2.7033e-02, -3.4506e-02, -1.7485e-02,  2.2021e-02,\n",
      "         2.7553e-02,  2.9604e-02,  3.2692e-03,  1.2080e-02,  2.1962e-02,\n",
      "         1.2852e-03, -2.6152e-02,  3.9091e-03, -4.6149e-04, -2.7871e-02,\n",
      "        -2.7158e-02, -2.8106e-02,  8.4452e-03, -4.2123e-03, -1.5496e-02,\n",
      "         1.4151e-02,  3.3309e-02, -3.0897e-02, -1.3580e-02,  7.8930e-03,\n",
      "         1.2968e-02, -2.3633e-02,  3.3336e-02,  1.6476e-02,  3.1426e-02,\n",
      "         2.7711e-03, -1.4707e-02,  2.4444e-02, -7.3464e-03,  1.6429e-02,\n",
      "         3.2376e-02, -3.2932e-02, -3.1890e-02,  2.6948e-02, -3.2232e-02,\n",
      "        -2.2885e-02,  2.0393e-02, -1.2153e-02,  3.2843e-02,  1.6063e-02,\n",
      "        -2.8525e-02,  2.3578e-02,  3.1195e-02, -3.4108e-02, -1.2084e-02,\n",
      "        -1.9030e-02, -3.0854e-02,  3.1751e-03, -2.3633e-02,  1.0448e-02,\n",
      "        -6.0632e-04,  6.1194e-03,  8.9684e-03,  3.2675e-02, -3.5165e-02,\n",
      "        -2.9001e-02,  3.2902e-02, -2.3137e-02,  1.4034e-02, -1.9340e-02,\n",
      "        -4.3098e-03, -1.0152e-02,  3.3009e-02, -8.5261e-03,  1.9116e-02,\n",
      "        -2.1326e-02, -2.1750e-02, -3.2818e-02, -1.2424e-02, -3.1520e-02,\n",
      "         3.4138e-02,  1.2467e-02, -8.2160e-03, -1.7355e-02,  1.2527e-02,\n",
      "        -3.0619e-03, -3.4248e-02,  2.7012e-02, -3.4381e-02,  2.1225e-02,\n",
      "         2.4622e-02,  2.3597e-02, -5.2404e-03,  2.5402e-02,  2.8044e-03,\n",
      "         1.8171e-02,  1.6295e-02,  7.5048e-03, -2.0129e-02, -8.1449e-03,\n",
      "        -2.2797e-02,  1.5140e-02,  2.2680e-02, -5.4075e-03,  3.1127e-02,\n",
      "        -3.9378e-03, -2.6073e-03,  3.4534e-02, -5.5751e-03,  3.0244e-02,\n",
      "        -8.0014e-03, -3.3441e-02, -1.8295e-02, -9.8255e-03,  5.7600e-03,\n",
      "         2.6411e-02, -1.5482e-02, -2.9290e-02, -2.7936e-03, -6.7533e-03,\n",
      "        -1.8877e-02, -1.5493e-02,  3.0584e-02, -1.0207e-02, -4.1483e-03,\n",
      "        -1.4204e-02,  1.3101e-02, -2.1983e-02, -1.4243e-02,  1.1993e-02,\n",
      "         3.5082e-02, -2.5798e-02,  8.2482e-03,  2.6079e-02, -1.5045e-02,\n",
      "        -1.0907e-02, -3.1395e-02, -3.0946e-02,  1.2696e-02,  2.1962e-02,\n",
      "        -1.6517e-02, -2.0796e-02,  1.8966e-03,  2.2016e-02, -8.8115e-03,\n",
      "        -3.3511e-02,  4.1553e-03, -3.5621e-02, -2.5234e-02,  3.3668e-02,\n",
      "        -1.5838e-02,  1.9163e-02,  1.1309e-02,  7.1581e-03,  2.4599e-03,\n",
      "         1.0418e-03,  1.5835e-02, -3.1117e-02,  1.4002e-02, -1.7575e-02,\n",
      "        -4.7403e-03, -2.3615e-02,  2.5964e-02,  3.5575e-02, -2.3438e-02,\n",
      "         1.8887e-02,  1.3537e-02,  1.7165e-02,  4.8687e-03,  1.3109e-02,\n",
      "        -1.6110e-02,  3.5598e-02, -3.0832e-02,  3.5443e-02, -3.4592e-02,\n",
      "         2.0597e-05, -3.0758e-02,  3.3062e-02,  3.8597e-03, -2.1460e-02,\n",
      "        -9.8353e-03], requires_grad=True)\n"
     ]
    }
   ],
   "source": [
    "# Check the weights and biases initialized\n",
    "\n",
    "print(model.hidden1.weight)\n",
    "print(model.hidden1.bias)"
   ]
  },
  {
   "cell_type": "markdown",
   "id": "3f54fde2",
   "metadata": {},
   "source": [
    "We could also customize how our weights and biases are initialized as shown below"
   ]
  },
  {
   "cell_type": "markdown",
   "id": "1e6c3b2e",
   "metadata": {},
   "source": [
    "###### Initializing using a constant value"
   ]
  },
  {
   "cell_type": "code",
   "execution_count": 19,
   "id": "15ac71e4",
   "metadata": {},
   "outputs": [
    {
     "data": {
      "text/plain": [
       "tensor([0., 0., 0., 0., 0., 0., 0., 0., 0., 0., 0., 0., 0., 0., 0., 0., 0., 0., 0., 0., 0., 0., 0., 0.,\n",
       "        0., 0., 0., 0., 0., 0., 0., 0., 0., 0., 0., 0., 0., 0., 0., 0., 0., 0., 0., 0., 0., 0., 0., 0.,\n",
       "        0., 0., 0., 0., 0., 0., 0., 0., 0., 0., 0., 0., 0., 0., 0., 0., 0., 0., 0., 0., 0., 0., 0., 0.,\n",
       "        0., 0., 0., 0., 0., 0., 0., 0., 0., 0., 0., 0., 0., 0., 0., 0., 0., 0., 0., 0., 0., 0., 0., 0.,\n",
       "        0., 0., 0., 0., 0., 0., 0., 0., 0., 0., 0., 0., 0., 0., 0., 0., 0., 0., 0., 0., 0., 0., 0., 0.,\n",
       "        0., 0., 0., 0., 0., 0., 0., 0., 0., 0., 0., 0., 0., 0., 0., 0., 0., 0., 0., 0., 0., 0., 0., 0.,\n",
       "        0., 0., 0., 0., 0., 0., 0., 0., 0., 0., 0., 0., 0., 0., 0., 0., 0., 0., 0., 0., 0., 0., 0., 0.,\n",
       "        0., 0., 0., 0., 0., 0., 0., 0., 0., 0., 0., 0., 0., 0., 0., 0., 0., 0., 0., 0., 0., 0., 0., 0.,\n",
       "        0., 0., 0., 0., 0., 0., 0., 0., 0., 0., 0., 0., 0., 0., 0., 0., 0., 0., 0., 0., 0., 0., 0., 0.,\n",
       "        0., 0., 0., 0., 0., 0., 0., 0., 0., 0., 0., 0., 0., 0., 0., 0., 0., 0., 0., 0., 0., 0., 0., 0.,\n",
       "        0., 0., 0., 0., 0., 0., 0., 0., 0., 0., 0., 0., 0., 0., 0., 0.])"
      ]
     },
     "execution_count": 19,
     "metadata": {},
     "output_type": "execute_result"
    }
   ],
   "source": [
    "# Fill all the bias values with zero\n",
    "model.hidden1.bias.data.fill_(0)"
   ]
  },
  {
   "cell_type": "markdown",
   "id": "c0407410",
   "metadata": {},
   "source": [
    "###### Initializing by sampling from a distibution function"
   ]
  },
  {
   "cell_type": "code",
   "execution_count": 20,
   "id": "3d3367f2",
   "metadata": {},
   "outputs": [
    {
     "data": {
      "text/plain": [
       "tensor([[ 0.0009, -0.0076,  0.0247,  ...,  0.0175, -0.0125, -0.0145],\n",
       "        [ 0.0402, -0.0346, -0.0202,  ..., -0.0208,  0.0644, -0.0225],\n",
       "        [ 0.0148,  0.0213, -0.0283,  ...,  0.0567,  0.0005,  0.0476],\n",
       "        ...,\n",
       "        [-0.0091,  0.0073, -0.0040,  ..., -0.0504,  0.0206, -0.0233],\n",
       "        [-0.0135, -0.0409, -0.0154,  ...,  0.0118,  0.0370,  0.0506],\n",
       "        [ 0.0400,  0.0279,  0.0206,  ..., -0.0216,  0.0044,  0.0094]])"
      ]
     },
     "execution_count": 20,
     "metadata": {},
     "output_type": "execute_result"
    }
   ],
   "source": [
    "# sample from random normal with standard dev = 0.03\n",
    "model.hidden1.weight.data.normal_(std=0.03)"
   ]
  },
  {
   "cell_type": "markdown",
   "id": "140038df",
   "metadata": {},
   "source": [
    "##### Making our forward pass through the Network."
   ]
  },
  {
   "cell_type": "code",
   "execution_count": 21,
   "id": "4e5f881d",
   "metadata": {},
   "outputs": [
    {
     "data": {
      "image/png": "[encoded data removed]",
      "text/plain": [
       "<Figure size 432x648 with 2 Axes>"
      ]
     },
     "metadata": {
      "image/png": {
       "height": 216,
       "width": 424
      },
      "needs_background": "light"
     },
     "output_type": "display_data"
    }
   ],
   "source": [
    "# Grab some data \n",
    "train_iterator = iter(trainloader)\n",
    "images, labels = train_iterator.next()\n",
    "\n",
    "# Resize images into a 1D vector, new shape is (batch size, color channels, image pixels) \n",
    "images.resize_(64, 1, 784)\n",
    "# or images.resize_(images.shape[0], 1, 784) to automatically get batch size\n",
    "\n",
    "# Forward pass through the network\n",
    "image_index = 0\n",
    "probs = model.forward(images[image_index,:])\n",
    "\n",
    "image = images[image_index]\n",
    "image_preds(image.view(1, 28, 28), probs)"
   ]
  },
  {
   "cell_type": "markdown",
   "id": "fdb7a620",
   "metadata": {},
   "source": [
    "Our Network is not yet trained. As you can see in the plot above, it is just making random guesses. This is because we initialized the weights and biases from a random distribution, hence the random predictions."
   ]
  },
  {
   "cell_type": "markdown",
   "id": "1d140435",
   "metadata": {},
   "source": [
    "#### Building the Network using the nn.Sequential Module"
   ]
  },
  {
   "cell_type": "markdown",
   "id": "60f2848e",
   "metadata": {},
   "source": [
    "The nn.Sequential module is unique in that the input tensor is passed sequentially through the transformations. "
   ]
  },
  {
   "cell_type": "code",
   "execution_count": 29,
   "id": "d6cb3d7d",
   "metadata": {},
   "outputs": [
    {
     "name": "stdout",
     "output_type": "stream",
     "text": [
      "Sequential(\n",
      "  (0): Linear(in_features=784, out_features=256, bias=True)\n",
      "  (1): ReLU()\n",
      "  (2): Linear(in_features=256, out_features=64, bias=True)\n",
      "  (3): ReLU()\n",
      "  (4): Linear(in_features=64, out_features=10, bias=True)\n",
      "  (5): Softmax(dim=1)\n",
      ")\n"
     ]
    },
    {
     "data": {
      "image/png": "[encoded data removed]",
      "text/plain": [
       "<Figure size 432x648 with 2 Axes>"
      ]
     },
     "metadata": {
      "image/png": {
       "height": 216,
       "width": 424
      },
      "needs_background": "light"
     },
     "output_type": "display_data"
    }
   ],
   "source": [
    "# Hyperparameters for our network\n",
    "input_size = 784\n",
    "hidden_sizes = [256, 64]\n",
    "output_size = 10\n",
    "\n",
    "# Build a feed-forward network\n",
    "model = nn.Sequential(nn.Linear(input_size, hidden_sizes[0]),\n",
    "                      nn.ReLU(),\n",
    "                      nn.Linear(hidden_sizes[0], hidden_sizes[1]),\n",
    "                      nn.ReLU(),\n",
    "                      nn.Linear(hidden_sizes[1], output_size),\n",
    "                      nn.Softmax(dim=1))\n",
    "print(model)\n",
    "\n",
    "# Forward pass through the network and display output\n",
    "images, labels = next(iter(trainloader))\n",
    "images.resize_(images.shape[0], 1, 784)\n",
    "probs = model.forward(images[0,:])\n",
    "image_preds(images[0].view(1, 28, 28), probs)"
   ]
  },
  {
   "cell_type": "markdown",
   "id": "1db97bd6",
   "metadata": {},
   "source": [
    "### Training the Network.\n",
    "Training a neural network, is the process of finding a set of weights that can cause the network architecture to give us the best performance when solving a problem at hand. The network we saw above is not that smart. We train the network by showing it examples of real world data, and adjusting the weights applied to it, such that, it is able to approximate this function. The power of neural networks is that, given enough data and compute capacity, we can train this network, to be able to approximate this function, and any other function for that matter."
   ]
  },
  {
   "cell_type": "markdown",
   "id": "6718d777",
   "metadata": {},
   "source": [
    "#### Define the loss function\n",
    "To train our network, we first need to have some measure of how well the network is performing. We usually calculate a **loss function**, which measures our prediction error. A common loss function used in regression and binary classification problems is the **mean squared loss**, expressed as below:\n",
    "$$\n",
    "\\large \\ell = \\frac{1}{2n}\\sum_i^n{\\left(y_i - \\hat{y}_i\\right)^2}\n",
    "$$\n",
    "\n",
    "where $n$ is the number of training examples, $y_i$ are the true labels, and $\\hat{y}_i$ are the predicted labels. We will be diving deeper into this loss function, but in the meantime, you can find the [documentation for loss functions](https://pytorch.org/docs/stable/nn.html#loss-functions) here.  \n",
    "By continously minimizing this loss, with respect to the network parameters, we will come up with a set of parameters that will give us a minimal loss. The process of finding this minimum loss is called **gradient descent.**  "
   ]
  },
  {
   "cell_type": "code",
   "execution_count": 24,
   "id": "bb22d7d4",
   "metadata": {},
   "outputs": [],
   "source": [
    "# Define Our loss function.\n",
    "criterion = nn.NLLLoss()"
   ]
  },
  {
   "cell_type": "markdown",
   "id": "cdafa7a2",
   "metadata": {},
   "source": [
    "#### Calculate Gradients\n",
    "Torch provides a module called **Autograd** to automatically calculate gradients of tensors. These gradients are used to update the parameters for our archtecture. Pytorch will automatically initialize all parameters with *require_grad=True*. After we calculate the loss, we can call `loss.backward()` and the gradients are calculated automatically.  "
   ]
  },
  {
   "cell_type": "code",
   "execution_count": 27,
   "id": "0f485ad4",
   "metadata": {},
   "outputs": [
    {
     "name": "stdout",
     "output_type": "stream",
     "text": [
      "Before backward pass: \n",
      " tensor([[-1.3473e-04, -1.3473e-04, -1.3522e-04,  ..., -6.1707e-05,\n",
      "         -1.2925e-04, -1.3473e-04],\n",
      "        [ 0.0000e+00,  0.0000e+00,  0.0000e+00,  ...,  0.0000e+00,\n",
      "          0.0000e+00,  0.0000e+00],\n",
      "        [ 1.3919e-04,  1.3919e-04,  1.3905e-04,  ...,  1.3905e-04,\n",
      "          1.3919e-04,  1.3919e-04],\n",
      "        ...,\n",
      "        [-2.1069e-04, -2.1069e-04, -2.1009e-04,  ..., -3.3590e-04,\n",
      "         -2.2036e-04, -2.1069e-04],\n",
      "        [ 9.6699e-05,  9.6699e-05,  9.6699e-05,  ...,  9.6699e-05,\n",
      "          9.6699e-05,  9.6699e-05],\n",
      "        [-1.1713e-04, -1.1713e-04, -1.1713e-04,  ..., -2.3090e-05,\n",
      "         -8.9076e-05, -1.1713e-04]])\n",
      "After backward pass: \n",
      " tensor([[-2.0209e-04, -2.0209e-04, -2.0283e-04,  ..., -9.2561e-05,\n",
      "         -1.9388e-04, -2.0209e-04],\n",
      "        [ 0.0000e+00,  0.0000e+00,  0.0000e+00,  ...,  0.0000e+00,\n",
      "          0.0000e+00,  0.0000e+00],\n",
      "        [ 2.0879e-04,  2.0879e-04,  2.0857e-04,  ...,  2.0857e-04,\n",
      "          2.0879e-04,  2.0879e-04],\n",
      "        ...,\n",
      "        [-3.1604e-04, -3.1604e-04, -3.1513e-04,  ..., -5.0384e-04,\n",
      "         -3.3054e-04, -3.1604e-04],\n",
      "        [ 1.4505e-04,  1.4505e-04,  1.4505e-04,  ...,  1.4505e-04,\n",
      "          1.4505e-04,  1.4505e-04],\n",
      "        [-1.7570e-04, -1.7570e-04, -1.7570e-04,  ..., -3.4634e-05,\n",
      "         -1.3361e-04, -1.7570e-04]])\n"
     ]
    }
   ],
   "source": [
    "# Flatten Our images so that we can pass them through a fully connected network\n",
    "images = images.view(images.shape[0], -1)\n",
    "\n",
    "# Pass the images through our model to get the probabilities\n",
    "logps = model(images)\n",
    "\n",
    "# Calculate the loss\n",
    "loss = criterion(logps, labels)\n",
    "\n",
    "# Let us view the gradients before and after the backward pass.\n",
    "print('Before backward pass: \\n', model[0].weight.grad)\n",
    "\n",
    "loss.backward()\n",
    "\n",
    "print('After backward pass: \\n', model[0].weight.grad)"
   ]
  },
  {
   "cell_type": "markdown",
   "id": "62761fd2",
   "metadata": {},
   "source": [
    "#### Define Our Optimizer Function\n",
    "Torch also provides an _optim_ package to update the weights with the calculated gradients. Optimizers usually require that we pass the parameters we want to optimize, and a learning rate. More on the learning rate soon.  \n",
    "When we do multiple backward passes, the gradients are accumulated. Hence we need to do a `optimizer.zero_grad()` to zero our gradients after every training pass to remove the gradients from the previous training passes."
   ]
  },
  {
   "cell_type": "code",
   "execution_count": null,
   "id": "5171d02b",
   "metadata": {},
   "outputs": [],
   "source": [
    "# Define the optimizer passing in the parameters and a learning rate\n",
    "optimizer = optim.SGD(model.parameters(), lr=0.01)"
   ]
  },
  {
   "cell_type": "markdown",
   "id": "393d8aa3",
   "metadata": {},
   "source": [
    "#### Training Process In Full\n",
    "The process of training a neural network is as below:\n",
    "  * We make a forward pass through the network.\n",
    "  * We take the output of the forward pass and use it to calculate our loss\n",
    "  * We perform a backward pass to calculate our gradients\n",
    "  * We take an optimizer step to update the parameters of our architecture"
   ]
  },
  {
   "cell_type": "code",
   "execution_count": 32,
   "id": "80b445bf",
   "metadata": {},
   "outputs": [
    {
     "name": "stdout",
     "output_type": "stream",
     "text": [
      "Training loss: -0.10184181512577702\n",
      "Training loss: -0.10522302495899485\n",
      "Training loss: -0.1094165886245938\n",
      "Training loss: -0.11486464630026044\n",
      "Training loss: -0.1223063614529206\n"
     ]
    }
   ],
   "source": [
    "# Instantiate the network Once again to camcel out everything we have just done\n",
    "model = nn.Sequential(nn.Linear(input_size, hidden_sizes[0]),\n",
    "                      nn.ReLU(),\n",
    "                      nn.Linear(hidden_sizes[0], hidden_sizes[1]),\n",
    "                      nn.ReLU(),\n",
    "                      nn.Linear(hidden_sizes[1], output_size),\n",
    "                      nn.Softmax(dim=1))\n",
    "\n",
    "# Define Our Loss\n",
    "criterion = nn.NLLLoss()\n",
    "\n",
    "# Define our optimization function\n",
    "optimizer = optim.SGD(model.parameters(), lr=0.001)\n",
    "\n",
    "# Define the number of iterations on the full dataset to make during the training process\n",
    "epochs = 5\n",
    "\n",
    "# Train the Network\n",
    "for e in range(epochs):\n",
    "    running_loss = 0\n",
    "    for images, labels in trainloader:\n",
    "        # Flatten our images into a 784 long vector\n",
    "        images = images.view(images.shape[0], -1)\n",
    "    \n",
    "        # Zero Out the gradients on every training pass\n",
    "        optimizer.zero_grad()\n",
    "        \n",
    "        # Calculate the logits(log_probabilies / predictions) generated by the model\n",
    "        output = model(images)\n",
    "        # Calculate our loss\n",
    "        loss = criterion(output, labels)\n",
    "        # Calculate Our gradients to update the model\n",
    "        loss.backward()\n",
    "        # Perform an optimization step to update the parameters(Weights)\n",
    "        optimizer.step()\n",
    "        \n",
    "        # Track Our loss. It should be decreasing on every iteration\n",
    "        running_loss += loss.item()\n",
    "    else:\n",
    "        print(f\"Training loss: {running_loss/len(trainloader)}\")"
   ]
  },
  {
   "cell_type": "markdown",
   "id": "962be930",
   "metadata": {},
   "source": [
    "### Testing the Network"
   ]
  },
  {
   "cell_type": "code",
   "execution_count": 43,
   "id": "bd5fd13d",
   "metadata": {},
   "outputs": [
    {
     "name": "stdout",
     "output_type": "stream",
     "text": [
      "Test Loss: -0.127..  Test Accuracy: 33.668%\n"
     ]
    }
   ],
   "source": [
    "test_loss = 0\n",
    "accuracy = 0\n",
    "test_losses = []\n",
    "\n",
    "# Turn off gradients for validation, saves memory and computations\n",
    "with torch.no_grad():\n",
    "    model.eval()\n",
    "    for images, labels in testloader:\n",
    "        # Flatten our images into a 784 long vector\n",
    "        images = images.view(images.shape[0], -1)\n",
    "        # Pass the image through the model and get the logits\n",
    "        logits = model(images)\n",
    "        # Calculate the test loss\n",
    "        test_loss += criterion(logits, labels)\n",
    "        \n",
    "        # Get the classes for each logit\n",
    "        logit_class = torch.exp(logits)\n",
    "        top_p, top_class = logit_class.topk(1, dim=1)\n",
    "        equals = top_class == labels.view(*top_class.shape)\n",
    "        accuracy += torch.mean(equals.type(torch.FloatTensor))\n",
    "\n",
    "test_losses.append(test_loss/len(testloader))\n",
    "\n",
    "print(\"Test Loss: {:.3f}.. \".format(test_losses[-1]),\n",
    "      \"Test Accuracy: {:.3f}%\".format((accuracy * 100)/len(testloader)))"
   ]
  },
  {
   "cell_type": "markdown",
   "id": "c416a03e",
   "metadata": {
    "heading_collapsed": true
   },
   "source": [
    "### Deployment."
   ]
  },
  {
   "cell_type": "code",
   "execution_count": null,
   "id": "e40adc71",
   "metadata": {
    "hidden": true
   },
   "outputs": [],
   "source": []
  }
 ],
 "metadata": {
  "kernelspec": {
   "display_name": "Python 3",
   "language": "python",
   "name": "python3"
  },
  "language_info": {
   "codemirror_mode": {
    "name": "ipython",
    "version": 3
   },
   "file_extension": ".py",
   "mimetype": "text/x-python",
   "name": "python",
   "nbconvert_exporter": "python",
   "pygments_lexer": "ipython3",
   "version": "3.8.8"
  }
 },
 "nbformat": 4,
 "nbformat_minor": 5
}
