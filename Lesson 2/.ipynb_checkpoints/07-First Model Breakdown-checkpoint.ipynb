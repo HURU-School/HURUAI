{
 "cells": [
  {
   "cell_type": "markdown",
   "id": "e6eb4a54",
   "metadata": {},
   "source": [
    "[![Open In Colab](https://colab.research.google.com/assets/colab-badge.svg)](https://colab.research.google.com/github/HURU-School/HURUAI/blob/main/Lesson%202/First%20Model%20Breakdown.ipynb)"
   ]
  },
  {
   "cell_type": "markdown",
   "id": "c75f0926",
   "metadata": {},
   "source": [
    "# Breaking Down Our First Model\n",
    "Previously, we just ran through our first model and got to see the process involved in developing a deep learning model. Some parts might seem easy to understand, some parts not so much. In this section, we will break down each and every part of the code and really just dive deep into the inner workings of the model and how we built it from end to end. We will keep the structure we had earlier so that it is easy for us to follow along and compare what we are doing here to what we did earlier when training our first model. Let's Go!!!"
   ]
  },
  {
   "cell_type": "markdown",
   "id": "4bf30cd0",
   "metadata": {},
   "source": [
    "## Fashion MNIST\n",
    "Let's make it even more interesting. Let's switch and use a different dataset this time round. We will use the _Fashion Mnist_ dataset provided by torchvision, pytorch's machine vision library. Like MNIST, this dataset contains grayscale images, of sizes 28 * 28 pixels, of ten clothing types ('T-shirt/top', 'Trouser', 'Pullover', 'Dress', 'Coat', 'Sandal', 'Shirt', 'Sneaker','Bag', 'Ankle Boot'). The image below shows a representation of the dataset.\n",
    "![Fashion_Mnist](../images/Lesson_2/fashion-mnist.png)  "
   ]
  },
  {
   "cell_type": "markdown",
   "id": "a6814998",
   "metadata": {
    "heading_collapsed": true
   },
   "source": [
    "### Setting Up Our Development Enironment"
   ]
  },
  {
   "cell_type": "markdown",
   "id": "a0942bc3",
   "metadata": {
    "heading_collapsed": true,
    "hidden": true
   },
   "source": [
    "#### Mounting Colab to Gdrive"
   ]
  },
  {
   "cell_type": "code",
   "execution_count": null,
   "id": "ba0b0e45",
   "metadata": {
    "hidden": true
   },
   "outputs": [],
   "source": [
    "#  Mounts Google Colab on Gdrive.\n",
    "from google.colab import drive\n",
    "drive.mount('/content/gdrive')"
   ]
  },
  {
   "cell_type": "markdown",
   "id": "5b90b7e2",
   "metadata": {
    "heading_collapsed": true,
    "hidden": true
   },
   "source": [
    "#### Move to our Working Directory"
   ]
  },
  {
   "cell_type": "code",
   "execution_count": null,
   "id": "362321e7",
   "metadata": {
    "hidden": true
   },
   "outputs": [],
   "source": [
    "%cd /content/gdrive/My Drive/HuruAI"
   ]
  },
  {
   "cell_type": "markdown",
   "id": "a5d126bf",
   "metadata": {
    "heading_collapsed": true,
    "hidden": true
   },
   "source": [
    "#### Notebook Setup"
   ]
  },
  {
   "cell_type": "code",
   "execution_count": 2,
   "id": "603ec29c",
   "metadata": {
    "hidden": true
   },
   "outputs": [],
   "source": [
    "# The code below sets us up with some nice formatting for our plots.\n",
    "\n",
    "%matplotlib inline\n",
    "%config InlineBackend.figure_format = 'retina'"
   ]
  },
  {
   "cell_type": "code",
   "execution_count": 3,
   "id": "c5ad147f",
   "metadata": {
    "hidden": true
   },
   "outputs": [],
   "source": [
    "# Import the required packages\n",
    "\n",
    "import numpy as np\n",
    "\n",
    "import torch\n",
    "from torch import nn, optim\n",
    "import torch.nn.functional as F\n",
    "from torchvision import datasets, transforms\n",
    "\n",
    "import matplotlib.pyplot as plt"
   ]
  },
  {
   "cell_type": "markdown",
   "id": "1261a60f",
   "metadata": {
    "heading_collapsed": true,
    "hidden": true
   },
   "source": [
    "#### Define a plot funtion that takes an image and returns it's predicted Class.\n",
    "This part is usually not included here. It can be written on a separate page and imported. But I will leave it here so that we do not have to deal with the complexities."
   ]
  },
  {
   "cell_type": "code",
   "execution_count": 21,
   "id": "692abdcf",
   "metadata": {
    "hidden": true
   },
   "outputs": [],
   "source": [
    "def image_preds(image, probs):\n",
    "    ''' This function is for viewing an image and its predicted class.\n",
    "    '''\n",
    "    probs = probs.data.numpy().squeeze()\n",
    "\n",
    "    fig, (ax1, ax2) = plt.subplots(figsize=(6,9), ncols=2)\n",
    "    ax1.imshow(image.resize_(1, 28, 28).numpy().squeeze())\n",
    "    ax1.axis('off')\n",
    "    ax2.barh(np.arange(10), probs)\n",
    "    ax2.set_aspect(0.1)\n",
    "    ax2.set_yticks(np.arange(10))\n",
    "    ax2.set_yticklabels(['T-shirt/top',\n",
    "                            'Trouser',\n",
    "                            'Pullover',\n",
    "                            'Dress',\n",
    "                            'Coat',\n",
    "                            'Sandal',\n",
    "                            'Shirt',\n",
    "                            'Sneaker',\n",
    "                            'Bag',\n",
    "                            'Ankle Boot'], size='small');\n",
    "    ax2.set_title('Returned Class Probabilities')\n",
    "    ax2.set_xlim(0, 1.1)\n",
    "\n",
    "    plt.tight_layout()"
   ]
  },
  {
   "cell_type": "markdown",
   "id": "0208420a",
   "metadata": {
    "heading_collapsed": true
   },
   "source": [
    "### Preparing the Dataset"
   ]
  },
  {
   "cell_type": "markdown",
   "id": "0e68e9bd",
   "metadata": {
    "heading_collapsed": true,
    "hidden": true
   },
   "source": [
    "#### Defining Our Transforms\n",
    "Transforms are a way to add variety to our data. Common transforms include:\n",
    "  * Centre Crop - Crops a given image at the centre.\n",
    "  * Color Jitter - randomly changing the brightness, hue, saturation or contrast in an image.\n",
    "  * Grayscale - Converts a color image to grascale\n",
    "  * Random Horizontal Flip - Horizontally flips random images in  a dataset\n",
    "  \n",
    "There are more transforms than these. You can read more about these transforms and what they do from the torchvision transforms documentation. In addition, we convert the images in our dataset into tensor datatypes and normalize the data as well. Color in a computer is represented as an integer with values between 0 - 255. Normalizing the tensors scales the values thus the model train faster. In the Normalize function, we pass the mean and standard deviation the function will use to normalize the data. In this case, we pass (0.5, 0.5)\n",
    "$$\n",
    "image = (image-mean) / std\n",
    "$$\n",
    "This normalizes the image to a range of [-1, 1]."
   ]
  },
  {
   "cell_type": "code",
   "execution_count": 4,
   "id": "8d3a43b9",
   "metadata": {
    "hidden": true
   },
   "outputs": [],
   "source": [
    "# Define a transform to normalize the data\n",
    "transform = transforms.Compose([transforms.ToTensor(),\n",
    "                              transforms.Normalize((0.5,), (0.5,)),\n",
    "                              ])"
   ]
  },
  {
   "cell_type": "markdown",
   "id": "0c12b775",
   "metadata": {
    "heading_collapsed": true,
    "hidden": true
   },
   "source": [
    "#### Downloading the Dataset\n",
    "We then download the dataset and apply the transfomations defined above. Data loaders provide a convenient way to load our datasets. They match each image to its label,  batch the data into the defined batch sizes and shuffle the data everytime the we are going through the dataloader, to reduce bias. Samplers can also be defined here if the dataset is imbalanced."
   ]
  },
  {
   "cell_type": "code",
   "execution_count": 5,
   "id": "98b6d013",
   "metadata": {
    "hidden": true
   },
   "outputs": [],
   "source": [
    "# Download and load the training data\n",
    "trainset = datasets.FashionMNIST('./Data', download=True, train=True, transform=transform)\n",
    "trainloader = torch.utils.data.DataLoader(trainset, batch_size=64, shuffle=True)\n",
    "\n",
    "# Download and load the test data\n",
    "testset = datasets.FashionMNIST('./Data', download=True, train=False, transform=transform)\n",
    "testloader = torch.utils.data.DataLoader(testset, batch_size=64, shuffle=True)"
   ]
  },
  {
   "cell_type": "markdown",
   "id": "caf632c4",
   "metadata": {
    "heading_collapsed": true,
    "hidden": true
   },
   "source": [
    "#### Prepare an iterator\n",
    "We prepare an iterator that will allow us to loop through our data loader, each time picking an image with its corresponding label as shown below\n",
    "```python\n",
    "for image, label in trainloader:\n",
    "    ## What to do with the image and label.\n",
    "```"
   ]
  },
  {
   "cell_type": "code",
   "execution_count": 6,
   "id": "e038d194",
   "metadata": {
    "hidden": true
   },
   "outputs": [
    {
     "name": "stdout",
     "output_type": "stream",
     "text": [
      "<class 'torch.Tensor'>\n",
      "torch.Size([64, 1, 28, 28])\n",
      "torch.Size([64])\n"
     ]
    }
   ],
   "source": [
    "train_iterator = iter(trainloader)\n",
    "images, labels = train_iterator.next()\n",
    "print(type(images))\n",
    "print(images.shape)\n",
    "print(labels.shape)"
   ]
  },
  {
   "cell_type": "markdown",
   "id": "6227abd8",
   "metadata": {
    "hidden": true
   },
   "source": [
    "We can then print out an image from the data loader as below"
   ]
  },
  {
   "cell_type": "code",
   "execution_count": 7,
   "id": "b26ff9bc",
   "metadata": {
    "hidden": true
   },
   "outputs": [
    {
     "data": {
      "image/png": "[encoded data removed]",
      "text/plain": [
       "<Figure size 432x288 with 1 Axes>"
      ]
     },
     "metadata": {
      "image/png": {
       "height": 248,
       "width": 251
      },
      "needs_background": "light"
     },
     "output_type": "display_data"
    }
   ],
   "source": [
    "plt.imshow(images[9].numpy().squeeze(), cmap='Greys_r');"
   ]
  },
  {
   "cell_type": "markdown",
   "id": "a9c52b30",
   "metadata": {
    "heading_collapsed": true
   },
   "source": [
    "### Building Our Network\n",
    "The network we implemented in our first model is called a _fully connected_ or _dense network_. In this network, each unit in a layer is connected to every other unit in the next layer. The input to this network MUST be a 1-D tensor. Since our images are 2-D tensors i.e (28 * 28 pixels), we need to convert them to 1-D tensors. This process is called _flattening._ We convert the shape from (64, 1, 28, 28) to (64, 784).\n",
    "Similar to the network before, we need 10 output units, one for each class of clothing item we would like to predict. We calculate the probability that the image provided is of any one class or clothing defined in our labels. This is known as a _discrete probability distribution calculated over the classes(clothing) telling us the most likely class."
   ]
  },
  {
   "cell_type": "markdown",
   "id": "445ffa72",
   "metadata": {
    "heading_collapsed": true,
    "hidden": true
   },
   "source": [
    "#### The Network Architecture"
   ]
  },
  {
   "cell_type": "markdown",
   "id": "eb61847d",
   "metadata": {
    "hidden": true
   },
   "source": [
    "Our network consists of an input layer, two hidden layers and an output layer. Typically, the network will need to be _deeper_ than this, but we are keeping things simple. Our network will look as below.\n",
    "![Network architecture](../images/Lesson_2/nn.png)  "
   ]
  },
  {
   "cell_type": "markdown",
   "id": "5abcddec",
   "metadata": {
    "heading_collapsed": true,
    "hidden": true
   },
   "source": [
    "#### Building Our Network Purely from Tensors\n",
    "In this section we will explore building the network purely from weight matrices. Next, we will explore using torch's nn module to build the network. "
   ]
  },
  {
   "cell_type": "markdown",
   "id": "40f11a9c",
   "metadata": {
    "heading_collapsed": true,
    "hidden": true
   },
   "source": [
    "##### Define our activation function\n",
    "In the first network, we used a ReLU activation function. For this we will switch things up an explore a new activation function, _the sigmoid activation function_. Mathematically, it is expressed as below:\n",
    "$$\n",
    "\\sigma(x) = \\frac{1}{1 + e^{-x}}\n",
    "$$\n",
    "Graphically, the function is represented as below.\n",
    "![Sigmoid Function](../images/Lesson_2/sigmoid.PNG)  "
   ]
  },
  {
   "cell_type": "code",
   "execution_count": 8,
   "id": "31c1b946",
   "metadata": {
    "hidden": true
   },
   "outputs": [],
   "source": [
    "## Initialize the sigmoid activation function.\n",
    "\n",
    "def activation(x):\n",
    "    return 1/(1+torch.exp(-x))\n"
   ]
  },
  {
   "cell_type": "markdown",
   "id": "62b58f3b",
   "metadata": {
    "heading_collapsed": true,
    "hidden": true
   },
   "source": [
    "##### Flatten the Input Images"
   ]
  },
  {
   "cell_type": "code",
   "execution_count": 9,
   "id": "8545f266",
   "metadata": {
    "hidden": true
   },
   "outputs": [],
   "source": [
    "# Flatten the input images\n",
    "inputs = images.view(images.shape[0], -1)"
   ]
  },
  {
   "cell_type": "markdown",
   "id": "ad2de0b2",
   "metadata": {
    "heading_collapsed": true,
    "hidden": true
   },
   "source": [
    "##### Randomly Initialize Our Weights and Bias"
   ]
  },
  {
   "cell_type": "code",
   "execution_count": 11,
   "id": "d913fc94",
   "metadata": {
    "hidden": true
   },
   "outputs": [],
   "source": [
    "# Initializing Weights and Bias\n",
    "w1 = torch.randn(784, 256)\n",
    "b1 = torch.randn(256)\n",
    "\n",
    "w2 = torch.randn(256, 64)\n",
    "b2 = torch.randn(64)\n",
    "\n",
    "w3 = torch.randn(64, 10)\n",
    "b3 = torch.randn(10)\n",
    "\n",
    "h1 = activation(torch.mm(inputs, w1) + b1)\n",
    "\n",
    "h2 = activation(torch.mm(h1, w2) + b2)\n",
    "\n",
    "out = torch.mm(h2, w3) + b3"
   ]
  },
  {
   "cell_type": "markdown",
   "id": "ddc6d49d",
   "metadata": {
    "heading_collapsed": true,
    "hidden": true
   },
   "source": [
    "##### Calculate Probability Distribution\n",
    "The probability distribution is calculated by applying a _softmax function_ across the 10 classes. Mathematically, this function is represented as below:\n",
    "$$\n",
    "\\Large \\sigma(x_i) = \\cfrac{e^{x_i}}{\\sum_k^K{e^{x_k}}}\n",
    "$$\n",
    "It mashes each input x into a range between 0 and 1, then normalizes the values resulting in a proper distribution with the values all adding up to one."
   ]
  },
  {
   "cell_type": "code",
   "execution_count": 13,
   "id": "33120c10",
   "metadata": {
    "hidden": true
   },
   "outputs": [
    {
     "name": "stdout",
     "output_type": "stream",
     "text": [
      "torch.Size([64, 10])\n",
      "tensor([1.0000, 1.0000, 1.0000, 1.0000, 1.0000, 1.0000, 1.0000, 1.0000, 1.0000,\n",
      "        1.0000, 1.0000, 1.0000, 1.0000, 1.0000, 1.0000, 1.0000, 1.0000, 1.0000,\n",
      "        1.0000, 1.0000, 1.0000, 1.0000, 1.0000, 1.0000, 1.0000, 1.0000, 1.0000,\n",
      "        1.0000, 1.0000, 1.0000, 1.0000, 1.0000, 1.0000, 1.0000, 1.0000, 1.0000,\n",
      "        1.0000, 1.0000, 1.0000, 1.0000, 1.0000, 1.0000, 1.0000, 1.0000, 1.0000,\n",
      "        1.0000, 1.0000, 1.0000, 1.0000, 1.0000, 1.0000, 1.0000, 1.0000, 1.0000,\n",
      "        1.0000, 1.0000, 1.0000, 1.0000, 1.0000, 1.0000, 1.0000, 1.0000, 1.0000,\n",
      "        1.0000])\n"
     ]
    }
   ],
   "source": [
    "## Define the softmax function\n",
    "\n",
    "def softmax(x):\n",
    "    return torch.exp(x)/torch.sum(torch.exp(x), dim=1).view(-1, 1)\n",
    "\n",
    "probabilities = softmax(out)\n",
    "\n",
    "# Confirm that indeed the shape is (64, 10)\n",
    "print(probabilities.shape)\n",
    "# Confirm that the probabilirs all add up to 1\n",
    "print(probabilities.sum(dim=1))"
   ]
  },
  {
   "cell_type": "markdown",
   "id": "5c822f7b",
   "metadata": {
    "heading_collapsed": true,
    "hidden": true
   },
   "source": [
    "#### Building the Network with Pytorch's _nn_ Module\n",
    "Torch provides a handy module called _nn_, that makes building neural networks from scratch pretty easy.\n",
    "First we inherit from the _nn.Module_ class, combine this with *super().__init__* function, will create a python class object with some useful methods and attributes. \n",
    "\n",
    "```python\n",
    "self.hidden = nn.Linear(784, 256)\n",
    "```\n",
    "The line above will create a module for a linear transformation $x\\mathbf{W} + b$, with 784 units as input and 256 units as output. Hidden layer 1 to hidden layer 2's transformation follows a similar approach with 256 units as input and 64 unts as output, as does the output layer, with 64 inputs and 10 outputs. \n",
    "Next we define the sigmoid activation function and the softmax output function. Setting (dim=1) calculates the softmax output across the columns only.\n",
    "The nn module requires a forward function. The function takes an input tensor and passes it through the transformations defines in the *__init__ function*.  \n",
    "**Note:** Order is not particularly important in the *__init__* definition but it is crucial in the forward method."
   ]
  },
  {
   "cell_type": "code",
   "execution_count": 14,
   "id": "6d4dc9d2",
   "metadata": {
    "hidden": true
   },
   "outputs": [],
   "source": [
    "# Instantiate the Network\n",
    "\n",
    "class Net(nn.Module):\n",
    "    def __init__(self):\n",
    "        super().__init__()\n",
    "        \n",
    "        # Inputs to hidden layer 1 linear transformation\n",
    "        self.hidden1 = nn.Linear(784, 256)\n",
    "        # Hidden Layer 1 to hidden layer 2 linear transformation\n",
    "        self.hidden2 = nn.Linear(256, 64)\n",
    "        # Output layer, 10 units - one for each item of clothing\n",
    "        self.output = nn.Linear(64, 10)\n",
    "        \n",
    "        # Define sigmoid activation and softmax output \n",
    "        self.sigmoid = nn.Sigmoid()\n",
    "        self.softmax = nn.Softmax(dim=1)\n",
    "        \n",
    "    def forward(self, x):\n",
    "        # Pass the input tensor through each of our operations\n",
    "        x = self.hidden1(x)\n",
    "        x = self.sigmoid(x)\n",
    "        x = self.hidden2(x)\n",
    "        x = self.sigmoid(x)\n",
    "        x = self.output(x)\n",
    "        x = self.softmax(x)\n",
    "        \n",
    "        return x"
   ]
  },
  {
   "cell_type": "code",
   "execution_count": 15,
   "id": "6045b842",
   "metadata": {
    "hidden": true
   },
   "outputs": [
    {
     "data": {
      "text/plain": [
       "Net(\n",
       "  (hidden1): Linear(in_features=784, out_features=256, bias=True)\n",
       "  (hidden2): Linear(in_features=256, out_features=64, bias=True)\n",
       "  (output): Linear(in_features=64, out_features=10, bias=True)\n",
       "  (sigmoid): Sigmoid()\n",
       "  (softmax): Softmax(dim=1)\n",
       ")"
      ]
     },
     "execution_count": 15,
     "metadata": {},
     "output_type": "execute_result"
    }
   ],
   "source": [
    "# Initialize the network\n",
    "\n",
    "model = Net()\n",
    "model"
   ]
  },
  {
   "cell_type": "markdown",
   "id": "027ddf9c",
   "metadata": {
    "heading_collapsed": true,
    "hidden": true
   },
   "source": [
    "#### Building the network using Pytorch's *nn.functional* Module\n",
    "This module provides a more concise way to build the network architecture. This is by far the most common way to build network architectures in pytorch."
   ]
  },
  {
   "cell_type": "code",
   "execution_count": 16,
   "id": "4bdf8f5f",
   "metadata": {
    "hidden": true
   },
   "outputs": [],
   "source": [
    "# Instantiate the network\n",
    "class Net(nn.Module):\n",
    "    def __init__(self):\n",
    "        super().__init__()\n",
    "        # Inputs to hidden layer 1 linear transformation\n",
    "        self.hidden1 = nn.Linear(784, 256)\n",
    "        # Hidden Layer 1 to hidden layer 2 linear transformation\n",
    "        self.hidden2 = nn.Linear(256, 64)\n",
    "        # Output layer, 10 units - one for each item of clothing\n",
    "        self.output = nn.Linear(64, 10)\n",
    "        \n",
    "    def forward(self, x):\n",
    "        # Hidden layer 1 with sigmoid activation\n",
    "        x = F.sigmoid(self.hidden1(x))\n",
    "        # Hidden layer 2 with sigmoid activation\n",
    "        x = F.sigmoid(self.hidden2(x))\n",
    "        # Output layer with softmax activation\n",
    "        x = F.softmax(self.output(x), dim=1)\n",
    "        \n",
    "        return x"
   ]
  },
  {
   "cell_type": "markdown",
   "id": "fdfc5e6b",
   "metadata": {
    "heading_collapsed": true,
    "hidden": true
   },
   "source": [
    "##### Weights and Bias Initialization\n",
    "The weights and biases are initialized, from a random distribution function, for you automatically, unlike when we were building purely from tensors. "
   ]
  },
  {
   "cell_type": "code",
   "execution_count": 18,
   "id": "69411593",
   "metadata": {
    "hidden": true
   },
   "outputs": [
    {
     "name": "stdout",
     "output_type": "stream",
     "text": [
      "Parameter containing:\n",
      "tensor([[ 0.0247, -0.0240,  0.0190,  ...,  0.0107, -0.0271,  0.0138],\n",
      "        [-0.0150,  0.0071, -0.0286,  ..., -0.0297, -0.0353, -0.0052],\n",
      "        [-0.0323, -0.0269,  0.0026,  ...,  0.0091, -0.0200, -0.0129],\n",
      "        ...,\n",
      "        [ 0.0068, -0.0342, -0.0270,  ...,  0.0248, -0.0033, -0.0306],\n",
      "        [ 0.0180,  0.0069,  0.0276,  ..., -0.0011, -0.0120,  0.0215],\n",
      "        [ 0.0112,  0.0263,  0.0006,  ..., -0.0339, -0.0052, -0.0257]],\n",
      "       requires_grad=True)\n",
      "Parameter containing:\n",
      "tensor([-1.2504e-02,  1.5813e-02,  3.3688e-02, -5.3383e-04,  2.6504e-02,\n",
      "         3.4799e-02, -7.8687e-04, -1.9121e-02, -2.7735e-02, -1.1293e-02,\n",
      "         3.0996e-02, -3.3681e-02,  5.4446e-04, -7.1977e-03, -2.9615e-02,\n",
      "         1.4666e-02, -2.1334e-02, -3.4312e-02, -3.2713e-02,  1.2953e-02,\n",
      "         3.1217e-03, -2.2046e-02, -3.8613e-03,  2.6329e-02,  2.9323e-02,\n",
      "         3.1728e-02,  2.3292e-02, -1.0869e-02, -2.0499e-03,  1.1352e-02,\n",
      "         2.4925e-03, -3.2473e-03,  6.3959e-03, -1.3545e-03,  3.0171e-02,\n",
      "         5.7411e-03,  3.0676e-02, -2.0155e-02,  9.8437e-03,  2.3272e-02,\n",
      "         1.2409e-02,  3.1692e-02, -1.7883e-04,  5.3274e-03,  2.8865e-02,\n",
      "        -7.5607e-03,  2.8188e-02,  2.7422e-02, -9.5015e-03, -2.1615e-02,\n",
      "        -2.3491e-02,  2.0610e-02,  4.1402e-03,  2.6814e-02,  2.2346e-02,\n",
      "        -1.3639e-02,  2.6548e-02, -5.6694e-04,  7.2369e-04,  1.6352e-03,\n",
      "         2.3731e-02,  9.4605e-03,  2.1443e-02,  2.7115e-02,  7.7956e-03,\n",
      "         2.5734e-02,  2.0686e-03,  5.9439e-03, -6.6379e-03,  2.6897e-02,\n",
      "         3.3458e-02,  3.0686e-02, -3.0831e-03,  1.0223e-02, -1.1809e-02,\n",
      "         3.4251e-03, -1.0431e-02, -5.7165e-03, -1.4350e-02,  2.0090e-02,\n",
      "         1.4853e-02,  1.4284e-02, -2.3657e-02, -7.4073e-03,  4.9647e-05,\n",
      "        -1.2344e-02, -9.1620e-03, -1.3176e-02, -2.2426e-02, -8.8262e-03,\n",
      "        -2.1925e-02, -1.0319e-02,  5.7939e-03,  1.0517e-02,  1.4883e-02,\n",
      "         3.0544e-03, -2.3820e-02,  9.0580e-03, -2.0491e-02,  3.3865e-02,\n",
      "        -3.4042e-02, -2.4080e-02,  2.0592e-02,  2.8503e-02, -2.9165e-02,\n",
      "        -1.0165e-02,  2.2749e-02, -2.4721e-02,  7.2202e-03, -1.4035e-02,\n",
      "        -3.3063e-02,  3.0083e-02,  2.3216e-02, -1.3028e-02, -2.4993e-02,\n",
      "         1.3682e-02,  1.0979e-02, -3.0613e-02, -1.4708e-02, -5.6665e-03,\n",
      "         6.8165e-05,  2.0850e-02,  3.0889e-02, -3.3184e-02, -2.0100e-02,\n",
      "         2.6937e-02,  6.6682e-03,  7.0368e-04, -3.0133e-02,  1.5781e-02,\n",
      "         1.8053e-02,  2.5184e-02, -3.3362e-03,  2.2127e-02,  3.5181e-02,\n",
      "         1.5284e-02,  1.9297e-02, -1.5739e-05,  2.8216e-02,  3.3648e-02,\n",
      "        -2.7717e-03,  1.8307e-02, -3.0261e-02, -1.5538e-02, -2.7769e-02,\n",
      "        -1.4928e-02,  2.8410e-02, -4.1496e-03, -4.9106e-03,  6.3265e-03,\n",
      "         3.3185e-02,  1.1194e-02,  6.3210e-03,  2.4996e-02, -8.7738e-03,\n",
      "        -1.6988e-02, -1.1333e-02,  7.0417e-03,  2.3537e-02, -2.2647e-02,\n",
      "        -1.6409e-02, -3.2850e-03, -9.0098e-03,  2.9801e-02, -1.9245e-02,\n",
      "         2.9030e-03,  1.6945e-02, -7.2044e-03, -3.4198e-02, -1.1217e-02,\n",
      "         6.2135e-03, -2.8476e-03, -2.8215e-02,  3.6998e-03, -1.8529e-02,\n",
      "        -9.5007e-03, -2.6726e-02, -9.8154e-03, -7.3641e-03,  3.3371e-02,\n",
      "         3.0283e-02,  7.3713e-03,  1.1470e-02, -2.2903e-02, -1.3904e-02,\n",
      "         1.7842e-02, -9.2344e-03, -3.3609e-03,  6.3711e-03,  2.4399e-02,\n",
      "        -1.7007e-02,  3.3959e-02, -2.8982e-03, -3.2831e-02, -2.5674e-02,\n",
      "        -3.3947e-02, -8.9597e-03, -2.2603e-02, -3.2161e-02,  1.5957e-02,\n",
      "        -2.5189e-02,  6.1742e-03,  1.9419e-02, -1.3685e-02, -8.2367e-03,\n",
      "         1.0013e-02,  1.7421e-02,  2.6646e-02, -3.0488e-02, -3.5601e-02,\n",
      "         8.6883e-03, -2.9177e-02, -3.4627e-02, -1.8489e-02,  1.1633e-02,\n",
      "        -1.4250e-02,  2.5351e-02,  7.0474e-03,  3.0631e-02,  1.0102e-02,\n",
      "         3.4970e-02,  2.2468e-02, -2.5508e-02,  3.2495e-02,  3.3589e-02,\n",
      "         5.5367e-04, -8.8065e-03,  3.9036e-03,  2.0387e-02,  3.7117e-03,\n",
      "        -2.4788e-02,  2.1298e-02, -3.3804e-02,  2.9650e-02,  3.4869e-02,\n",
      "        -9.9515e-04,  9.7631e-03,  2.1766e-02,  2.4817e-02, -1.6195e-02,\n",
      "        -1.0106e-02, -1.7277e-02,  6.1908e-03, -2.3799e-02,  2.8325e-02,\n",
      "         1.2964e-02,  1.0565e-03,  2.1955e-02, -1.3415e-02,  1.2053e-02,\n",
      "         2.8872e-02,  2.9771e-02,  6.1661e-03,  2.2190e-02, -1.4513e-02,\n",
      "         3.0912e-02], requires_grad=True)\n"
     ]
    }
   ],
   "source": [
    "# Check the weights and biases initialized\n",
    "\n",
    "print(model.hidden1.weight)\n",
    "print(model.hidden1.bias)"
   ]
  },
  {
   "cell_type": "markdown",
   "id": "3f54fde2",
   "metadata": {
    "hidden": true
   },
   "source": [
    "We could also customize how our weights and biases are initialized as shown below"
   ]
  },
  {
   "cell_type": "markdown",
   "id": "1e6c3b2e",
   "metadata": {
    "heading_collapsed": true,
    "hidden": true
   },
   "source": [
    "###### Initializing using a constant value"
   ]
  },
  {
   "cell_type": "code",
   "execution_count": 19,
   "id": "15ac71e4",
   "metadata": {
    "hidden": true
   },
   "outputs": [
    {
     "data": {
      "text/plain": [
       "tensor([0., 0., 0., 0., 0., 0., 0., 0., 0., 0., 0., 0., 0., 0., 0., 0., 0., 0., 0., 0., 0., 0., 0., 0.,\n",
       "        0., 0., 0., 0., 0., 0., 0., 0., 0., 0., 0., 0., 0., 0., 0., 0., 0., 0., 0., 0., 0., 0., 0., 0.,\n",
       "        0., 0., 0., 0., 0., 0., 0., 0., 0., 0., 0., 0., 0., 0., 0., 0., 0., 0., 0., 0., 0., 0., 0., 0.,\n",
       "        0., 0., 0., 0., 0., 0., 0., 0., 0., 0., 0., 0., 0., 0., 0., 0., 0., 0., 0., 0., 0., 0., 0., 0.,\n",
       "        0., 0., 0., 0., 0., 0., 0., 0., 0., 0., 0., 0., 0., 0., 0., 0., 0., 0., 0., 0., 0., 0., 0., 0.,\n",
       "        0., 0., 0., 0., 0., 0., 0., 0., 0., 0., 0., 0., 0., 0., 0., 0., 0., 0., 0., 0., 0., 0., 0., 0.,\n",
       "        0., 0., 0., 0., 0., 0., 0., 0., 0., 0., 0., 0., 0., 0., 0., 0., 0., 0., 0., 0., 0., 0., 0., 0.,\n",
       "        0., 0., 0., 0., 0., 0., 0., 0., 0., 0., 0., 0., 0., 0., 0., 0., 0., 0., 0., 0., 0., 0., 0., 0.,\n",
       "        0., 0., 0., 0., 0., 0., 0., 0., 0., 0., 0., 0., 0., 0., 0., 0., 0., 0., 0., 0., 0., 0., 0., 0.,\n",
       "        0., 0., 0., 0., 0., 0., 0., 0., 0., 0., 0., 0., 0., 0., 0., 0., 0., 0., 0., 0., 0., 0., 0., 0.,\n",
       "        0., 0., 0., 0., 0., 0., 0., 0., 0., 0., 0., 0., 0., 0., 0., 0.])"
      ]
     },
     "execution_count": 19,
     "metadata": {},
     "output_type": "execute_result"
    }
   ],
   "source": [
    "# Fill all the bias values with zero\n",
    "model.hidden1.bias.data.fill_(0)"
   ]
  },
  {
   "cell_type": "markdown",
   "id": "c0407410",
   "metadata": {
    "heading_collapsed": true,
    "hidden": true
   },
   "source": [
    "###### Initializing by sampling from a distibution function"
   ]
  },
  {
   "cell_type": "code",
   "execution_count": 20,
   "id": "3d3367f2",
   "metadata": {
    "hidden": true
   },
   "outputs": [
    {
     "data": {
      "text/plain": [
       "tensor([[-0.0532, -0.0340, -0.0284,  ..., -0.0281,  0.0217,  0.0509],\n",
       "        [ 0.0020, -0.0219, -0.0150,  ...,  0.0210, -0.0224,  0.0101],\n",
       "        [ 0.0092,  0.0211, -0.0058,  ..., -0.0621, -0.0397,  0.0457],\n",
       "        ...,\n",
       "        [-0.0311, -0.0290, -0.0078,  ...,  0.0081,  0.0198,  0.0224],\n",
       "        [-0.0394, -0.0358, -0.0256,  ..., -0.0277,  0.0128, -0.0150],\n",
       "        [ 0.0037, -0.0250, -0.0648,  ..., -0.0313, -0.0173,  0.0236]])"
      ]
     },
     "execution_count": 20,
     "metadata": {},
     "output_type": "execute_result"
    }
   ],
   "source": [
    "# sample from random normal with standard dev = 0.03\n",
    "model.hidden1.weight.data.normal_(std=0.03)"
   ]
  },
  {
   "cell_type": "markdown",
   "id": "140038df",
   "metadata": {
    "heading_collapsed": true,
    "hidden": true
   },
   "source": [
    "##### Making our forward pass through the Network."
   ]
  },
  {
   "cell_type": "code",
   "execution_count": 22,
   "id": "4e5f881d",
   "metadata": {
    "hidden": true
   },
   "outputs": [
    {
     "data": {
      "image/png": "[encoded data removed]",
      "text/plain": [
       "<Figure size 432x648 with 2 Axes>"
      ]
     },
     "metadata": {
      "image/png": {
       "height": 216,
       "width": 424
      },
      "needs_background": "light"
     },
     "output_type": "display_data"
    }
   ],
   "source": [
    "# Grab some data \n",
    "train_iterator = iter(trainloader)\n",
    "images, labels = train_iterator.next()\n",
    "\n",
    "# Resize images into a 1D vector, new shape is (batch size, color channels, image pixels) \n",
    "images.resize_(64, 1, 784)\n",
    "# or images.resize_(images.shape[0], 1, 784) to automatically get batch size\n",
    "\n",
    "# Forward pass through the network\n",
    "image_index = 0\n",
    "probs = model.forward(images[image_index,:])\n",
    "\n",
    "image = images[image_index]\n",
    "image_preds(image.view(1, 28, 28), probs)"
   ]
  },
  {
   "cell_type": "markdown",
   "id": "fdb7a620",
   "metadata": {
    "hidden": true
   },
   "source": [
    "Our Network is not yet trained. As you can see in the plot above, it is just making random guesses. This is because we initialized the weights and biases from a random distribution, hence the random predictions."
   ]
  },
  {
   "cell_type": "markdown",
   "id": "1d140435",
   "metadata": {
    "heading_collapsed": true,
    "hidden": true
   },
   "source": [
    "#### Building the Network using the nn.Sequential Module"
   ]
  },
  {
   "cell_type": "markdown",
   "id": "60f2848e",
   "metadata": {
    "hidden": true
   },
   "source": [
    "The nn.Sequential module is unique in that the input tensor is passed sequentially through the transformations. "
   ]
  },
  {
   "cell_type": "code",
   "execution_count": 24,
   "id": "d6cb3d7d",
   "metadata": {
    "hidden": true
   },
   "outputs": [
    {
     "name": "stdout",
     "output_type": "stream",
     "text": [
      "Sequential(\n",
      "  (0): Linear(in_features=784, out_features=256, bias=True)\n",
      "  (1): ReLU()\n",
      "  (2): Linear(in_features=256, out_features=64, bias=True)\n",
      "  (3): ReLU()\n",
      "  (4): Linear(in_features=64, out_features=10, bias=True)\n",
      "  (5): Softmax(dim=1)\n",
      ")\n"
     ]
    },
    {
     "data": {
      "image/png": "[encoded data removed]",
      "text/plain": [
       "<Figure size 432x648 with 2 Axes>"
      ]
     },
     "metadata": {
      "image/png": {
       "height": 216,
       "width": 424
      },
      "needs_background": "light"
     },
     "output_type": "display_data"
    }
   ],
   "source": [
    "# Hyperparameters for our network\n",
    "input_size = 784\n",
    "hidden_sizes = [256, 64]\n",
    "output_size = 10\n",
    "\n",
    "# Build a feed-forward network\n",
    "model = nn.Sequential(nn.Linear(input_size, hidden_sizes[0]),\n",
    "                      nn.ReLU(),\n",
    "                      nn.Linear(hidden_sizes[0], hidden_sizes[1]),\n",
    "                      nn.ReLU(),\n",
    "                      nn.Linear(hidden_sizes[1], output_size),\n",
    "                      nn.Softmax(dim=1))\n",
    "print(model)\n",
    "\n",
    "# Forward pass through the network and display output\n",
    "images, labels = next(iter(trainloader))\n",
    "images.resize_(images.shape[0], 1, 784)\n",
    "probs = model.forward(images[0,:])\n",
    "image_preds(images[0].view(1, 28, 28), probs)"
   ]
  },
  {
   "cell_type": "markdown",
   "id": "1db97bd6",
   "metadata": {
    "heading_collapsed": true
   },
   "source": [
    "### Training the Network."
   ]
  },
  {
   "cell_type": "markdown",
   "id": "962be930",
   "metadata": {
    "heading_collapsed": true
   },
   "source": [
    "### Testing the Network"
   ]
  },
  {
   "cell_type": "markdown",
   "id": "c416a03e",
   "metadata": {
    "heading_collapsed": true
   },
   "source": [
    "### Deployment."
   ]
  },
  {
   "cell_type": "code",
   "execution_count": null,
   "id": "e40adc71",
   "metadata": {
    "hidden": true
   },
   "outputs": [],
   "source": []
  }
 ],
 "metadata": {
  "kernelspec": {
   "display_name": "Python 3",
   "language": "python",
   "name": "python3"
  },
  "language_info": {
   "codemirror_mode": {
    "name": "ipython",
    "version": 3
   },
   "file_extension": ".py",
   "mimetype": "text/x-python",
   "name": "python",
   "nbconvert_exporter": "python",
   "pygments_lexer": "ipython3",
   "version": "3.8.8"
  }
 },
 "nbformat": 4,
 "nbformat_minor": 5
}
