{
 "cells": [
  {
   "cell_type": "markdown",
   "id": "857ee461",
   "metadata": {},
   "source": [
    "# Tensors\n",
    "Tensors are basically the same as numpy arrays with the added bonus that they can run on both CPU's and GPU's."
   ]
  },
  {
   "cell_type": "markdown",
   "id": "bf5931d1",
   "metadata": {},
   "source": [
    "## Creating Tensors"
   ]
  },
  {
   "cell_type": "code",
   "execution_count": 1,
   "id": "5c1d4bc1",
   "metadata": {},
   "outputs": [],
   "source": [
    "# Import the torch library.\n",
    "import torch"
   ]
  },
  {
   "cell_type": "code",
   "execution_count": 3,
   "id": "7cfef06b",
   "metadata": {},
   "outputs": [
    {
     "name": "stdout",
     "output_type": "stream",
     "text": [
      "tensor([[4, 5, 6],\n",
      "        [7, 8, 9]])\n",
      "#######################\n",
      "tensor([[5, 1, 2],\n",
      "        [3, 8, 5]])\n"
     ]
    }
   ],
   "source": [
    "# Create a tensor\n",
    "x = torch.tensor([[4, 5, 6], [7, 8, 9]])\n",
    "y = torch.tensor([[5, 1, 2], [3, 8, 5]])\n",
    "print(x)\n",
    "print('#######################')\n",
    "print(y)"
   ]
  },
  {
   "cell_type": "markdown",
   "id": "4b843593",
   "metadata": {},
   "source": [
    "## Attributes of tensors"
   ]
  },
  {
   "cell_type": "code",
   "execution_count": 4,
   "id": "7644dd21",
   "metadata": {},
   "outputs": [
    {
     "name": "stdout",
     "output_type": "stream",
     "text": [
      "The shape of Tensor x is  torch.Size([2, 3])\n",
      "The number of dimensions in Tensor x is  2\n",
      "The tensor type for Tensor x is  torch.LongTensor\n"
     ]
    }
   ],
   "source": [
    "print('The shape of Tensor x is ', x.shape)\n",
    "print('The number of dimensions in Tensor x is ', x.dim())\n",
    "print('The tensor type for Tensor x is ', x.type())"
   ]
  },
  {
   "cell_type": "markdown",
   "id": "2d5c6fa8",
   "metadata": {},
   "source": [
    "## Indexing Tensors"
   ]
  },
  {
   "cell_type": "code",
   "execution_count": 5,
   "id": "a18dd848",
   "metadata": {},
   "outputs": [
    {
     "data": {
      "text/plain": [
       "tensor([4, 5, 6])"
      ]
     },
     "execution_count": 5,
     "metadata": {},
     "output_type": "execute_result"
    }
   ],
   "source": [
    "x[0]"
   ]
  },
  {
   "cell_type": "code",
   "execution_count": 6,
   "id": "bf73e1dc",
   "metadata": {},
   "outputs": [
    {
     "data": {
      "text/plain": [
       "tensor(4)"
      ]
     },
     "execution_count": 6,
     "metadata": {},
     "output_type": "execute_result"
    }
   ],
   "source": [
    "x[0, 0]"
   ]
  },
  {
   "cell_type": "markdown",
   "id": "c409fdbc",
   "metadata": {},
   "source": [
    "## Tensor Manipulation"
   ]
  },
  {
   "cell_type": "markdown",
   "id": "260f52c8",
   "metadata": {},
   "source": [
    "### Addition and Subtraction"
   ]
  },
  {
   "cell_type": "code",
   "execution_count": 9,
   "id": "11f2995f",
   "metadata": {},
   "outputs": [
    {
     "name": "stdout",
     "output_type": "stream",
     "text": [
      "Addition 1\n",
      "tensor([[ 9,  6,  8],\n",
      "        [10, 16, 14]])\n",
      "###################################\n",
      "Addition 2\n",
      "tensor([[ 9,  6,  8],\n",
      "        [10, 16, 14]])\n",
      "###################################\n",
      "Subtraction\n",
      "tensor([[-1,  4,  4],\n",
      "        [ 4,  0,  4]])\n",
      "###################################\n",
      "Subtraction 2\n",
      "tensor([[-1,  4,  4],\n",
      "        [ 4,  0,  4]])\n",
      "###################################\n"
     ]
    }
   ],
   "source": [
    "# Addition\n",
    "print('Addition 1')\n",
    "print(x + y)\n",
    "print('###################################')\n",
    "print('Addition 2')\n",
    "print(torch.add(x, y))\n",
    "print('###################################')\n",
    "print('Subtraction')\n",
    "print(x - y)\n",
    "print('###################################')\n",
    "print('Subtraction 2')\n",
    "print(torch.sub(x, y))\n",
    "print('###################################')"
   ]
  },
  {
   "cell_type": "markdown",
   "id": "d4c8f2bb",
   "metadata": {},
   "source": [
    "### Reshaping"
   ]
  },
  {
   "cell_type": "code",
   "execution_count": 14,
   "id": "47858d5c",
   "metadata": {},
   "outputs": [
    {
     "name": "stdout",
     "output_type": "stream",
     "text": [
      "tensor([[-0.2903,  2.0658, -2.1729,  0.4338,  0.6578],\n",
      "        [-0.4645, -0.2756, -0.3514,  0.3908, -0.9685],\n",
      "        [-0.8931,  0.1728, -2.0883, -0.7038, -1.6450],\n",
      "        [ 0.1427, -1.2340,  1.0006,  1.0538, -1.0586]])\n",
      "The shape of Tensor p is  torch.Size([4, 5])\n",
      "###########################################################\n",
      "tensor([-0.2903,  2.0658, -2.1729,  0.4338,  0.6578, -0.4645, -0.2756, -0.3514,\n",
      "         0.3908, -0.9685, -0.8931,  0.1728, -2.0883, -0.7038, -1.6450,  0.1427,\n",
      "        -1.2340,  1.0006,  1.0538, -1.0586])\n",
      "The shape of Tensor q is  torch.Size([20])\n",
      "###########################################################\n",
      "tensor([[-0.2903,  2.0658],\n",
      "        [-2.1729,  0.4338],\n",
      "        [ 0.6578, -0.4645],\n",
      "        [-0.2756, -0.3514],\n",
      "        [ 0.3908, -0.9685],\n",
      "        [-0.8931,  0.1728],\n",
      "        [-2.0883, -0.7038],\n",
      "        [-1.6450,  0.1427],\n",
      "        [-1.2340,  1.0006],\n",
      "        [ 1.0538, -1.0586]])\n",
      "The shape of Tensor z is  torch.Size([10, 2])\n",
      "###########################################################\n"
     ]
    }
   ],
   "source": [
    "p = torch.randn(4, 5)  # Creates a tensor from a random distribution\n",
    "q = p.reshape(20)      # One way to reshape the tensor\n",
    "z = p.view(10, 2)      # Another way to reshape the tensor\n",
    "print(p)\n",
    "print('The shape of Tensor p is ', p.shape)\n",
    "print('###########################################################')\n",
    "print(q)\n",
    "print('The shape of Tensor q is ', q.shape)\n",
    "print('###########################################################')\n",
    "print(z)\n",
    "print('The shape of Tensor z is ', z.shape)\n",
    "print('###########################################################')"
   ]
  },
  {
   "cell_type": "markdown",
   "id": "b0168af7",
   "metadata": {},
   "source": [
    "### Multiplication"
   ]
  },
  {
   "cell_type": "markdown",
   "id": "538d3efd",
   "metadata": {},
   "source": [
    "#### Cross Product"
   ]
  },
  {
   "cell_type": "code",
   "execution_count": 18,
   "id": "bef720b6",
   "metadata": {},
   "outputs": [
    {
     "data": {
      "text/plain": [
       "tensor([[ 0.1039, -0.7486,  0.0448],\n",
       "        [-0.6504, -0.1084, -1.0381],\n",
       "        [ 0.1590, -0.2678, -0.4344],\n",
       "        [ 0.1703,  0.1679,  2.1159],\n",
       "        [ 0.0476,  1.6224, -0.7131]])"
      ]
     },
     "execution_count": 18,
     "metadata": {},
     "output_type": "execute_result"
    }
   ],
   "source": [
    "e = torch.randn(5, 3)\n",
    "f = torch.randn(5, 3)\n",
    "e.cross(f)"
   ]
  },
  {
   "cell_type": "markdown",
   "id": "1de316d5",
   "metadata": {},
   "source": [
    "#### Matrix Product"
   ]
  },
  {
   "cell_type": "code",
   "execution_count": 20,
   "id": "7efd89c0",
   "metadata": {},
   "outputs": [
    {
     "name": "stdout",
     "output_type": "stream",
     "text": [
      "tensor([[6, 7],\n",
      "        [9, 2]])\n",
      "tensor([[9],\n",
      "        [5]])\n"
     ]
    }
   ],
   "source": [
    "m = torch.tensor([[6, 7], [9, 2]])\n",
    "n = torch.tensor([[9], [5]])\n",
    "print(m)\n",
    "print(n)"
   ]
  },
  {
   "cell_type": "code",
   "execution_count": 22,
   "id": "ac9d3d68",
   "metadata": {},
   "outputs": [
    {
     "name": "stdout",
     "output_type": "stream",
     "text": [
      "tensor([[89],\n",
      "        [91]])\n"
     ]
    }
   ],
   "source": [
    "s = torch.mm(m, n)  # Runs matrix multiplication on tensors\n",
    "print(s)"
   ]
  },
  {
   "cell_type": "markdown",
   "id": "783c22f9",
   "metadata": {},
   "source": [
    "## Migrating Between Numpy and Tensors"
   ]
  },
  {
   "cell_type": "code",
   "execution_count": 35,
   "id": "3ad63873",
   "metadata": {},
   "outputs": [
    {
     "name": "stdout",
     "output_type": "stream",
     "text": [
      "[[ 0.59846809 -1.17775275  1.011089  ]\n",
      " [ 0.13124054 -0.04861515  0.97090091]\n",
      " [ 1.8678157  -0.65053086  0.90836491]\n",
      " [-0.32322914 -0.69629122 -2.71652352]\n",
      " [-0.99927279  0.5722673  -0.20166185]]\n",
      "float64\n",
      "#######################################################\n",
      "tensor([[ 0.5985, -1.1778,  1.0111],\n",
      "        [ 0.1312, -0.0486,  0.9709],\n",
      "        [ 1.8678, -0.6505,  0.9084],\n",
      "        [-0.3232, -0.6963, -2.7165],\n",
      "        [-0.9993,  0.5723, -0.2017]], dtype=torch.float64)\n",
      "torch.float64\n",
      "#######################################################\n",
      "[[ 0.59846809 -1.17775275  1.011089  ]\n",
      " [ 0.13124054 -0.04861515  0.97090091]\n",
      " [ 1.8678157  -0.65053086  0.90836491]\n",
      " [-0.32322914 -0.69629122 -2.71652352]\n",
      " [-0.99927279  0.5722673  -0.20166185]]\n",
      "float64\n"
     ]
    }
   ],
   "source": [
    "import numpy as np\n",
    "\n",
    "x = np.random.randn(5, 3)    # Creates a numpy array of dimensions (5, 3) populated with values from a random distribution\n",
    "y = torch.from_numpy(x)      # Creates a torch tensor from a numpy array\n",
    "z = y.numpy()                # Creates a numpy array from a torch tensor\n",
    "print(x)\n",
    "print(x.dtype)\n",
    "print('#######################################################')\n",
    "print(y)\n",
    "print(y.dtype)\n",
    "print('#######################################################')\n",
    "print(z)\n",
    "print(z.dtype)\n"
   ]
  }
 ],
 "metadata": {
  "kernelspec": {
   "display_name": "Python 3",
   "language": "python",
   "name": "python3"
  },
  "language_info": {
   "codemirror_mode": {
    "name": "ipython",
    "version": 3
   },
   "file_extension": ".py",
   "mimetype": "text/x-python",
   "name": "python",
   "nbconvert_exporter": "python",
   "pygments_lexer": "ipython3",
   "version": "3.8.8"
  }
 },
 "nbformat": 4,
 "nbformat_minor": 5
}
