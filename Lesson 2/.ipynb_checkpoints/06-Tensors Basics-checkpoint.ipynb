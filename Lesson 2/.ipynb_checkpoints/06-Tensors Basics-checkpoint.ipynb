{
 "cells": [
  {
   "cell_type": "markdown",
   "id": "e4fbd874",
   "metadata": {},
   "source": [
    "[![Open In Colab](https://colab.research.google.com/assets/colab-badge.svg)](https://githubtocolab.com/HURU-School/HURUAI/blob/main/Lesson%202/06-Tensors%20Basics.ipynb)"
   ]
  },
  {
   "cell_type": "markdown",
   "id": "857ee461",
   "metadata": {},
   "source": [
    "# Tensors\n",
    "Tensors are basically the same as numpy arrays with the added bonus that they can run on both CPU's and GPU's."
   ]
  },
  {
   "cell_type": "markdown",
   "id": "ad848a43",
   "metadata": {
    "heading_collapsed": true
   },
   "source": [
    "## Setup"
   ]
  },
  {
   "cell_type": "markdown",
   "id": "ced3f114",
   "metadata": {
    "heading_collapsed": true,
    "hidden": true
   },
   "source": [
    "### Mount Colab to Gdrive"
   ]
  },
  {
   "cell_type": "code",
   "execution_count": null,
   "id": "998537b8",
   "metadata": {
    "hidden": true
   },
   "outputs": [],
   "source": [
    "#  Mounts Google Colab on Gdrive.\n",
    "from google.colab import drive\n",
    "drive.mount('/content/gdrive')"
   ]
  },
  {
   "cell_type": "markdown",
   "id": "b95a8e69",
   "metadata": {
    "heading_collapsed": true,
    "hidden": true
   },
   "source": [
    "### Move to your Working Directory."
   ]
  },
  {
   "cell_type": "code",
   "execution_count": null,
   "id": "02d993ef",
   "metadata": {
    "hidden": true
   },
   "outputs": [],
   "source": [
    "%cd /content/gdrive/My Drive/HuruAI"
   ]
  },
  {
   "cell_type": "markdown",
   "id": "bf5931d1",
   "metadata": {
    "heading_collapsed": true
   },
   "source": [
    "## Creating Tensors"
   ]
  },
  {
   "cell_type": "code",
   "execution_count": null,
   "id": "5c1d4bc1",
   "metadata": {
    "hidden": true
   },
   "outputs": [],
   "source": [
    "# Import the torch library.\n",
    "import torch"
   ]
  },
  {
   "cell_type": "code",
   "execution_count": null,
   "id": "7cfef06b",
   "metadata": {
    "hidden": true
   },
   "outputs": [],
   "source": [
    "# Create a tensor\n",
    "x = torch.tensor([[4, 5, 6], [7, 8, 9]])\n",
    "y = torch.tensor([[5, 1, 2], [3, 8, 5]])\n",
    "print(x)\n",
    "print('#######################')\n",
    "print(y)"
   ]
  },
  {
   "cell_type": "markdown",
   "id": "4b843593",
   "metadata": {
    "heading_collapsed": true
   },
   "source": [
    "## Attributes of tensors"
   ]
  },
  {
   "cell_type": "code",
   "execution_count": null,
   "id": "7644dd21",
   "metadata": {
    "hidden": true
   },
   "outputs": [],
   "source": [
    "print('The shape of Tensor x is ', x.shape)\n",
    "print('The number of dimensions in Tensor x is ', x.dim())\n",
    "print('The tensor type for Tensor x is ', x.type())"
   ]
  },
  {
   "cell_type": "markdown",
   "id": "2d5c6fa8",
   "metadata": {
    "heading_collapsed": true
   },
   "source": [
    "## Indexing Tensors"
   ]
  },
  {
   "cell_type": "code",
   "execution_count": null,
   "id": "a18dd848",
   "metadata": {
    "hidden": true
   },
   "outputs": [],
   "source": [
    "x[0]"
   ]
  },
  {
   "cell_type": "code",
   "execution_count": null,
   "id": "bf73e1dc",
   "metadata": {
    "hidden": true
   },
   "outputs": [],
   "source": [
    "x[0, 0]"
   ]
  },
  {
   "cell_type": "markdown",
   "id": "c409fdbc",
   "metadata": {
    "heading_collapsed": true
   },
   "source": [
    "## Tensor Manipulation"
   ]
  },
  {
   "cell_type": "markdown",
   "id": "260f52c8",
   "metadata": {
    "heading_collapsed": true,
    "hidden": true
   },
   "source": [
    "### Addition and Subtraction"
   ]
  },
  {
   "cell_type": "code",
   "execution_count": null,
   "id": "11f2995f",
   "metadata": {
    "hidden": true
   },
   "outputs": [],
   "source": [
    "# Addition\n",
    "print('Addition 1')\n",
    "print(x + y)\n",
    "print('###################################')\n",
    "print('Addition 2')\n",
    "print(torch.add(x, y))\n",
    "print('###################################')\n",
    "print('Subtraction')\n",
    "print(x - y)\n",
    "print('###################################')\n",
    "print('Subtraction 2')\n",
    "print(torch.sub(x, y))\n",
    "print('###################################')"
   ]
  },
  {
   "cell_type": "markdown",
   "id": "d4c8f2bb",
   "metadata": {
    "heading_collapsed": true,
    "hidden": true
   },
   "source": [
    "### Reshaping"
   ]
  },
  {
   "cell_type": "code",
   "execution_count": null,
   "id": "47858d5c",
   "metadata": {
    "hidden": true
   },
   "outputs": [],
   "source": [
    "p = torch.randn(4, 5)  # Creates a tensor from a random distribution\n",
    "q = p.reshape(20)      # One way to reshape the tensor\n",
    "z = p.view(10, 2)      # Another way to reshape the tensor\n",
    "print(p)\n",
    "print('The shape of Tensor p is ', p.shape)\n",
    "print('###########################################################')\n",
    "print(q)\n",
    "print('The shape of Tensor q is ', q.shape)\n",
    "print('###########################################################')\n",
    "print(z)\n",
    "print('The shape of Tensor z is ', z.shape)\n",
    "print('###########################################################')"
   ]
  },
  {
   "cell_type": "markdown",
   "id": "b0168af7",
   "metadata": {
    "heading_collapsed": true,
    "hidden": true
   },
   "source": [
    "### Multiplication"
   ]
  },
  {
   "cell_type": "markdown",
   "id": "538d3efd",
   "metadata": {
    "heading_collapsed": true,
    "hidden": true
   },
   "source": [
    "#### Cross Product"
   ]
  },
  {
   "cell_type": "code",
   "execution_count": null,
   "id": "bef720b6",
   "metadata": {
    "hidden": true
   },
   "outputs": [],
   "source": [
    "e = torch.randn(5, 3)\n",
    "f = torch.randn(5, 3)\n",
    "e.cross(f)"
   ]
  },
  {
   "cell_type": "markdown",
   "id": "1de316d5",
   "metadata": {
    "heading_collapsed": true,
    "hidden": true
   },
   "source": [
    "#### Matrix Product"
   ]
  },
  {
   "cell_type": "code",
   "execution_count": null,
   "id": "7efd89c0",
   "metadata": {
    "hidden": true
   },
   "outputs": [],
   "source": [
    "m = torch.tensor([[6, 7], [9, 2]])\n",
    "n = torch.tensor([[9], [5]])\n",
    "print(m)\n",
    "print(n)"
   ]
  },
  {
   "cell_type": "code",
   "execution_count": null,
   "id": "ac9d3d68",
   "metadata": {
    "hidden": true
   },
   "outputs": [],
   "source": [
    "s = torch.mm(m, n)  # Runs matrix multiplication on tensors\n",
    "print(s)"
   ]
  },
  {
   "cell_type": "markdown",
   "id": "783c22f9",
   "metadata": {
    "heading_collapsed": true
   },
   "source": [
    "## Migrating Between Numpy and Tensors"
   ]
  },
  {
   "cell_type": "code",
   "execution_count": null,
   "id": "3ad63873",
   "metadata": {
    "hidden": true
   },
   "outputs": [],
   "source": [
    "import numpy as np\n",
    "\n",
    "x = np.random.randn(5, 3)    # Creates a numpy array of dimensions (5, 3) populated with values from a random distribution\n",
    "y = torch.from_numpy(x)      # Creates a torch tensor from a numpy array\n",
    "z = y.numpy()                # Creates a numpy array from a torch tensor\n",
    "print(x)\n",
    "print(x.dtype)\n",
    "print('#######################################################')\n",
    "print(y)\n",
    "print(y.dtype)\n",
    "print('#######################################################')\n",
    "print(z)\n",
    "print(z.dtype)\n"
   ]
  }
 ],
 "metadata": {
  "kernelspec": {
   "display_name": "Python 3",
   "language": "python",
   "name": "python3"
  },
  "language_info": {
   "codemirror_mode": {
    "name": "ipython",
    "version": 3
   },
   "file_extension": ".py",
   "mimetype": "text/x-python",
   "name": "python",
   "nbconvert_exporter": "python",
   "pygments_lexer": "ipython3",
   "version": "3.8.8"
  }
 },
 "nbformat": 4,
 "nbformat_minor": 5
}
