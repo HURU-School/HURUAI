{
 "cells": [
  {
   "cell_type": "markdown",
   "id": "dec59428",
   "metadata": {},
   "source": [
    "[![Open In Colab](https://colab.research.google.com/assets/colab-badge.svg)](https://githubtocolab.com/HURU-School/HURUAI/blob/main/Lesson%202/01%20-%20Google%20Colaboratory%20Refresher.ipynb)"
   ]
  },
  {
   "cell_type": "markdown",
   "id": "7caabcd9",
   "metadata": {},
   "source": [
    "# Introduction\n",
    "\n",
    "[Google Colaboratory](https://colab.research.google.com/notebooks/intro.ipynb#recent=true), otherwise in short Colab, is a product developed by the Google research team. It runs in the cloud. It does not require any setup. The notebooks you create can be simultaneously edited by your team members. It also supports the major machine learning frameworks. Colab has attracted a wide following in the AI community due to its free **GPU (Graphical Processing Unit)** and **TPU (Tensor Processing Unit)** offering."
   ]
  },
  {
   "cell_type": "markdown",
   "id": "7c8e1a99",
   "metadata": {},
   "source": [
    "## Runtimes on Google Colab\n",
    "There are three runtimes on Colab:\n",
    "  * CPU runtime\n",
    "  * GPU runtime\n",
    "  * TPU runtime\n",
    "  \n",
    "Colab provides upto **12 hours** of execution time after which all virtual machines are cleared out."
   ]
  },
  {
   "cell_type": "markdown",
   "id": "470cf3a0",
   "metadata": {},
   "source": [
    "### CPU Runtime\n",
    "  * Model Name: Intel(R) Xeon(R) CPU @ 2.30GHz\n",
    "  * Address Sizes: 46 bits physical, 48 bits virtual\n",
    "  * Cache size: 46080kb"
   ]
  },
  {
   "cell_type": "markdown",
   "id": "220a061e",
   "metadata": {},
   "source": [
    "### GPU Runtime\n",
    "  * GPU: Single 12GB NVIDIA Tesla K80 GPU\n",
    "  * 13 GB RAM"
   ]
  },
  {
   "cell_type": "markdown",
   "id": "63b1f7fd",
   "metadata": {},
   "source": [
    "### TPU Runtime\n",
    "  * Cloud TPU with 180 teraflops of Computation\n",
    "  * Intel Xeon processor with two cores @ 2.30GHz\n",
    "  * 13GB RAM"
   ]
  },
  {
   "cell_type": "markdown",
   "id": "23f02ad6",
   "metadata": {},
   "source": [
    "## Cells in Colab\n",
    "\n",
    "Notebooks are a list of cells. A cell can contain either explanatory text or executable code and its output. To select a cell you click on it"
   ]
  },
  {
   "cell_type": "markdown",
   "id": "6714579c",
   "metadata": {},
   "source": [
    "### Text Cells"
   ]
  },
  {
   "cell_type": "markdown",
   "id": "4a5524f9",
   "metadata": {},
   "source": [
    "This is an example of a text cell. To edit a text cell you can _double-click_ on it. Text cells utilize **markdown syntax.** You can learn more about markdown from this [markdown guide](https://www.markdownguide.org/cheat-sheet/).\n",
    "\n",
    "You can add mathematical equations to text cells as well. These equations utilize [Latex](https://www.latex-project.org/help/documentation/) that is rendered by [MathJax](http://docs.mathjax.org/en/latest/). The equation is placed within a pair or two pairs of dollar signs. An example is shown below.  \n",
    "$$\\sqrt{8y - 6} + (5 + z)^2$$"
   ]
  },
  {
   "cell_type": "markdown",
   "id": "80b59d3f",
   "metadata": {},
   "source": [
    "### Code Cells"
   ]
  },
  {
   "cell_type": "markdown",
   "id": "f1b78411",
   "metadata": {},
   "source": [
    "These are used to write and execute code. There are a few ways to run code cells:\n",
    "  * Click the play button icon in the left gutter of the cell.\n",
    "  * Press **Shift + Enter** simultaneously while having selected the cell you want to run. This is the easiest.\n",
    "  * Press **Alt + Enter** simultaneously. This runs the selected code cell and creates a new cell below it."
   ]
  },
  {
   "cell_type": "markdown",
   "id": "3a55e3e3",
   "metadata": {},
   "source": [
    "#### Example Execution"
   ]
  },
  {
   "cell_type": "code",
   "execution_count": null,
   "id": "b0230bc7",
   "metadata": {},
   "outputs": [],
   "source": [
    "5 + 6"
   ]
  },
  {
   "cell_type": "code",
   "execution_count": null,
   "id": "2f2c064c",
   "metadata": {},
   "outputs": [],
   "source": [
    "x = 6*5"
   ]
  },
  {
   "cell_type": "code",
   "execution_count": null,
   "id": "bd25278f",
   "metadata": {},
   "outputs": [],
   "source": [
    "x"
   ]
  },
  {
   "cell_type": "code",
   "execution_count": null,
   "id": "f9478dc7",
   "metadata": {},
   "outputs": [],
   "source": [
    "x + 10"
   ]
  }
 ],
 "metadata": {
  "kernelspec": {
   "display_name": "Python 3",
   "language": "python",
   "name": "python3"
  },
  "language_info": {
   "codemirror_mode": {
    "name": "ipython",
    "version": 3
   },
   "file_extension": ".py",
   "mimetype": "text/x-python",
   "name": "python",
   "nbconvert_exporter": "python",
   "pygments_lexer": "ipython3",
   "version": "3.8.8"
  }
 },
 "nbformat": 4,
 "nbformat_minor": 5
}
