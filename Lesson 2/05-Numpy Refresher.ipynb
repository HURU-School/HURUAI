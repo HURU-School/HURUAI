{
 "cells": [
  {
   "cell_type": "markdown",
   "id": "743018f2",
   "metadata": {},
   "source": [
    "[![Open In Colab](https://colab.research.google.com/assets/colab-badge.svg)](https://githubtocolab.com/HURU-School/HURUAI/blob/main/Lesson%202/05-Numpy%20Refresher.ipynb)"
   ]
  },
  {
   "cell_type": "markdown",
   "id": "fc7da528",
   "metadata": {},
   "source": [
    "# Numpy"
   ]
  },
  {
   "cell_type": "markdown",
   "id": "ba64af16",
   "metadata": {
    "heading_collapsed": true
   },
   "source": [
    "## Setup"
   ]
  },
  {
   "cell_type": "markdown",
   "id": "fd2232b1",
   "metadata": {
    "heading_collapsed": true,
    "hidden": true
   },
   "source": [
    "### Mount Colab to Gdrive"
   ]
  },
  {
   "cell_type": "code",
   "execution_count": null,
   "id": "c707b39a",
   "metadata": {
    "hidden": true
   },
   "outputs": [],
   "source": [
    "#  Mounts Google Colab on Gdrive.\n",
    "from google.colab import drive\n",
    "drive.mount('/content/gdrive')"
   ]
  },
  {
   "cell_type": "markdown",
   "id": "9820f7ff",
   "metadata": {
    "heading_collapsed": true,
    "hidden": true
   },
   "source": [
    "### Move to your Working Directory"
   ]
  },
  {
   "cell_type": "code",
   "execution_count": null,
   "id": "40e0990d",
   "metadata": {
    "hidden": true
   },
   "outputs": [],
   "source": [
    "%cd /content/gdrive/My Drive/HuruAI"
   ]
  },
  {
   "cell_type": "markdown",
   "id": "92b172b7",
   "metadata": {},
   "source": [
    "## A little About Arrays in Python."
   ]
  },
  {
   "cell_type": "markdown",
   "id": "7f959dd6",
   "metadata": {},
   "source": [
    "Arrays, sometimes called lists, organize data sequentially in memory. They are the simplest and most widely used data structure. Arrays are the best at storing data and looping over the data. \n",
    "![Arrays](../images/Lesson_2/arrays.PNG)  \n",
    "Python has an array module built in but we almost always use numpy, a scientific library for python, because numpy is much more faster than the native python array module.  \n",
    "**NOTE:** Python, like most programming languages is **Zero-indexed**, meaning that when counting indices in python, we alwats start at Zero and not at One."
   ]
  },
  {
   "cell_type": "markdown",
   "id": "d67d507a",
   "metadata": {
    "heading_collapsed": true
   },
   "source": [
    "### Creating Arrays"
   ]
  },
  {
   "cell_type": "code",
   "execution_count": null,
   "id": "26466293",
   "metadata": {
    "hidden": true
   },
   "outputs": [],
   "source": [
    "# Import the numpy library\n",
    "import numpy as np"
   ]
  },
  {
   "cell_type": "code",
   "execution_count": null,
   "id": "7079cee6",
   "metadata": {
    "hidden": true
   },
   "outputs": [],
   "source": [
    "# Set a seed. This just makes sure that the random function is a little bit more predictable and reproducible.\n",
    "np.random.seed(42)\n",
    "\n",
    "# Create a numpy array\n",
    "x = np.random.randint(10, size=6) # Creates a one-dimensional array\n",
    "y = np.random.randint(10, size=(3, 4)) # Creates a two-dimensional array\n",
    "z = np.random.randint(10, size=(3, 4, 5)) # Creates a three-dimensional array"
   ]
  },
  {
   "cell_type": "markdown",
   "id": "37012f81",
   "metadata": {
    "heading_collapsed": true
   },
   "source": [
    "### Array Attributes\n",
    "The attributes of an array include:\n",
    "  * ndim - the number of dimensions\n",
    "  * shape - the size of each dimension\n",
    "  * size - the total size of the array\n",
    "  * dtype - the data type of the array\n",
    "  * itemsize - the size of each element in the array(in bytes).\n",
    "  * nbytes - the total size of the array(in bytes)."
   ]
  },
  {
   "cell_type": "code",
   "execution_count": null,
   "id": "ee2626d9",
   "metadata": {
    "hidden": true
   },
   "outputs": [],
   "source": [
    "print(\"Array z's number of dimensions: \", z.ndim)\n",
    "print(\"Array z's shape: \", z.shape)\n",
    "print(\"Array z's size: \", z.size)\n",
    "print(\"Array z's type: \", z.dtype)\n",
    "print(\"Array z's itemsize: \", z.itemsize)\n",
    "print(\"Array z's nbytes: \", z.nbytes)"
   ]
  },
  {
   "cell_type": "markdown",
   "id": "cf91d3a8",
   "metadata": {
    "heading_collapsed": true
   },
   "source": [
    "### Indexing in Arrays\n",
    "This is a method to access elements in an array. It is done by specifying the index of the item desired in square brackets"
   ]
  },
  {
   "cell_type": "code",
   "execution_count": null,
   "id": "dd45f33f",
   "metadata": {
    "hidden": true
   },
   "outputs": [],
   "source": [
    "x"
   ]
  },
  {
   "cell_type": "code",
   "execution_count": null,
   "id": "7d0fe958",
   "metadata": {
    "hidden": true
   },
   "outputs": [],
   "source": [
    "x[2]"
   ]
  },
  {
   "cell_type": "code",
   "execution_count": null,
   "id": "f0e20065",
   "metadata": {
    "hidden": true
   },
   "outputs": [],
   "source": [
    "x[-1]"
   ]
  },
  {
   "cell_type": "markdown",
   "id": "25233f74",
   "metadata": {
    "hidden": true
   },
   "source": [
    "In multi dimensional arrays items are accessed using a comma separated tuple of indices\n"
   ]
  },
  {
   "cell_type": "code",
   "execution_count": null,
   "id": "c909f0d5",
   "metadata": {
    "hidden": true
   },
   "outputs": [],
   "source": [
    "y"
   ]
  },
  {
   "cell_type": "code",
   "execution_count": null,
   "id": "4b190d50",
   "metadata": {
    "hidden": true
   },
   "outputs": [],
   "source": [
    "y[0, 0]"
   ]
  },
  {
   "cell_type": "code",
   "execution_count": null,
   "id": "763f71a1",
   "metadata": {
    "hidden": true
   },
   "outputs": [],
   "source": [
    "y[2,-1]"
   ]
  },
  {
   "cell_type": "markdown",
   "id": "3e73aa2b",
   "metadata": {
    "heading_collapsed": true
   },
   "source": [
    "### Iterating through a numpy array"
   ]
  },
  {
   "cell_type": "markdown",
   "id": "7a23d687",
   "metadata": {
    "heading_collapsed": true,
    "hidden": true
   },
   "source": [
    "#### Using the range fuction"
   ]
  },
  {
   "cell_type": "code",
   "execution_count": null,
   "id": "3813a76d",
   "metadata": {
    "hidden": true
   },
   "outputs": [],
   "source": [
    "x"
   ]
  },
  {
   "cell_type": "code",
   "execution_count": null,
   "id": "6693555b",
   "metadata": {
    "hidden": true
   },
   "outputs": [],
   "source": [
    "for i in range(len(x)):\n",
    "    print(x[i])"
   ]
  },
  {
   "cell_type": "markdown",
   "id": "6fae9493",
   "metadata": {
    "heading_collapsed": true,
    "hidden": true
   },
   "source": [
    "#### Using a for loop only"
   ]
  },
  {
   "cell_type": "code",
   "execution_count": null,
   "id": "610e29ce",
   "metadata": {
    "hidden": true
   },
   "outputs": [],
   "source": [
    "x"
   ]
  },
  {
   "cell_type": "code",
   "execution_count": null,
   "id": "9fb9c9dd",
   "metadata": {
    "hidden": true
   },
   "outputs": [],
   "source": [
    "for item in x:\n",
    "    print(item)"
   ]
  },
  {
   "cell_type": "markdown",
   "id": "b4d1fb0c",
   "metadata": {
    "heading_collapsed": true,
    "hidden": true
   },
   "source": [
    "#### Using the enumerate function\n",
    "The enumerate function adds a counter to the array thus relieving the overhead of keeping a count of the elements while the iteration operation in running."
   ]
  },
  {
   "cell_type": "code",
   "execution_count": null,
   "id": "df182ede",
   "metadata": {
    "hidden": true
   },
   "outputs": [],
   "source": [
    "x"
   ]
  },
  {
   "cell_type": "code",
   "execution_count": null,
   "id": "ee0c6cb1",
   "metadata": {
    "hidden": true
   },
   "outputs": [],
   "source": [
    "for index, value in enumerate(x):\n",
    "    print(index, ':', value)"
   ]
  },
  {
   "cell_type": "markdown",
   "id": "0330a007",
   "metadata": {
    "heading_collapsed": true
   },
   "source": [
    "### Array Manipulation"
   ]
  },
  {
   "cell_type": "markdown",
   "id": "b51a6e6d",
   "metadata": {
    "heading_collapsed": true,
    "hidden": true
   },
   "source": [
    "#### Reshaping an Array"
   ]
  },
  {
   "cell_type": "code",
   "execution_count": null,
   "id": "c42cff45",
   "metadata": {
    "hidden": true
   },
   "outputs": [],
   "source": [
    "# Create an array with 16 elements\n",
    "m = np.arange(1, 17)\n",
    "print(m)\n",
    "print('The shape of array m is ', m.shape)"
   ]
  },
  {
   "cell_type": "code",
   "execution_count": null,
   "id": "125cc76a",
   "metadata": {
    "hidden": true
   },
   "outputs": [],
   "source": [
    "m2 = m.reshape(4, 4)\n",
    "print(m2)\n",
    "print('The shape of array m2 is ', m2.shape)"
   ]
  },
  {
   "cell_type": "markdown",
   "id": "08022558",
   "metadata": {
    "heading_collapsed": true,
    "hidden": true
   },
   "source": [
    "#### Adding an array together\n",
    "The same procedure applies for subtraction as well"
   ]
  },
  {
   "cell_type": "code",
   "execution_count": null,
   "id": "ff7070b1",
   "metadata": {
    "hidden": true
   },
   "outputs": [],
   "source": [
    "n = m + m\n",
    "print(n)"
   ]
  },
  {
   "cell_type": "code",
   "execution_count": null,
   "id": "c8fa96cd",
   "metadata": {
    "hidden": true
   },
   "outputs": [],
   "source": [
    "# This throws a shape error because array m and m2 are not of the same shape\n",
    "m + m2"
   ]
  },
  {
   "cell_type": "markdown",
   "id": "de202979",
   "metadata": {
    "heading_collapsed": true,
    "hidden": true
   },
   "source": [
    "#### Dot Product"
   ]
  },
  {
   "cell_type": "code",
   "execution_count": null,
   "id": "9a065e82",
   "metadata": {
    "hidden": true
   },
   "outputs": [],
   "source": [
    "p = np.array([6, 5])\n",
    "q = np.array([7, 3])\n",
    "print(p)\n",
    "print(q)"
   ]
  },
  {
   "cell_type": "code",
   "execution_count": null,
   "id": "d25622c7",
   "metadata": {
    "hidden": true
   },
   "outputs": [],
   "source": [
    "#  the code below manually calculates dot product for p and q\n",
    "dot_product = 0\n",
    "for itema, itemb in zip(p, q):\n",
    "    dot_product += itema * itemb\n",
    "print(dot_product)"
   ]
  },
  {
   "cell_type": "code",
   "execution_count": null,
   "id": "d6149c95",
   "metadata": {
    "hidden": true
   },
   "outputs": [],
   "source": [
    "print(p.dot(q))"
   ]
  },
  {
   "cell_type": "markdown",
   "id": "e06dc00a",
   "metadata": {
    "heading_collapsed": true,
    "hidden": true
   },
   "source": [
    "#### Matrix Multiplication\n",
    "\n",
    "In order to multiply two matrices together, the inner dimensions of the matrices must match. Meaning, the number of columns  of the left matrix should match the number of rows on the right matrix."
   ]
  },
  {
   "cell_type": "code",
   "execution_count": null,
   "id": "8bc02353",
   "metadata": {
    "hidden": true
   },
   "outputs": [],
   "source": [
    "e = np.array(([4, 5, 6], [7, 8, 9]))\n",
    "f = np.array(([1, 2], [3, 4], [5, 6]))\n",
    "print(e)\n",
    "print (\"########################\")\n",
    "print(f)"
   ]
  },
  {
   "cell_type": "code",
   "execution_count": null,
   "id": "7e9258aa",
   "metadata": {
    "hidden": true
   },
   "outputs": [],
   "source": [
    "e.dot(f)"
   ]
  },
  {
   "cell_type": "code",
   "execution_count": null,
   "id": "3de7cb9a",
   "metadata": {
    "hidden": true
   },
   "outputs": [],
   "source": [
    "# As of python 3.5 the '@' symbol also does matrix multiplication\n",
    "e @ f"
   ]
  },
  {
   "cell_type": "markdown",
   "id": "11201412",
   "metadata": {
    "heading_collapsed": true,
    "hidden": true
   },
   "source": [
    "#### Matrix Transpose"
   ]
  },
  {
   "cell_type": "code",
   "execution_count": null,
   "id": "f121b57f",
   "metadata": {
    "hidden": true
   },
   "outputs": [],
   "source": [
    "x = np.arange(4).reshape((2, 2))\n",
    "x"
   ]
  },
  {
   "cell_type": "code",
   "execution_count": null,
   "id": "48a29a5d",
   "metadata": {
    "hidden": true
   },
   "outputs": [],
   "source": [
    "np.transpose(x)"
   ]
  },
  {
   "cell_type": "code",
   "execution_count": null,
   "id": "666a8505",
   "metadata": {
    "hidden": true
   },
   "outputs": [],
   "source": [
    "y = np.ones((2, 3, 4, 5))\n",
    "print(y)\n",
    "print('#################')\n",
    "print('The shape of matrix y is ', y.shape)"
   ]
  },
  {
   "cell_type": "code",
   "execution_count": null,
   "id": "ca97e7e6",
   "metadata": {
    "hidden": true
   },
   "outputs": [],
   "source": [
    "z = np.transpose(y)\n",
    "print(z)\n",
    "print('##################')\n",
    "print('The shape of matrix z is ', z.shape)"
   ]
  },
  {
   "cell_type": "code",
   "execution_count": null,
   "id": "0bed9d9a",
   "metadata": {
    "hidden": true
   },
   "outputs": [],
   "source": []
  }
 ],
 "metadata": {
  "kernelspec": {
   "display_name": "Python 3",
   "language": "python",
   "name": "python3"
  },
  "language_info": {
   "codemirror_mode": {
    "name": "ipython",
    "version": 3
   },
   "file_extension": ".py",
   "mimetype": "text/x-python",
   "name": "python",
   "nbconvert_exporter": "python",
   "pygments_lexer": "ipython3",
   "version": "3.8.8"
  }
 },
 "nbformat": 4,
 "nbformat_minor": 5
}
