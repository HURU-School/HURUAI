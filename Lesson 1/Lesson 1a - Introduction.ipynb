{
 "cells": [
  {
   "cell_type": "markdown",
   "metadata": {},
   "source": [
    "[![Open In Colab](https://colab.research.google.com/assets/colab-badge.svg)](https://colab.research.google.com/github/HURU-School/HURUAI/blob/main/Lesson%201/Lesson%201a%20-%20Introduction.ipynb)"
   ]
  },
  {
   "cell_type": "markdown",
   "metadata": {},
   "source": [
    "# Introduction"
   ]
  },
  {
   "cell_type": "markdown",
   "metadata": {},
   "source": [
    "## What is Artificial Intelligence"
   ]
  },
  {
   "cell_type": "markdown",
   "metadata": {},
   "source": [
    "There is this old joke that AI is \"All the cool things computers can't do.\" While it sounds funny or even cool at first, there is some truth to it. 50 years back, automatic search and planning methods were considered AI, but not anymore.  \n",
    "\n",
    "I would define Artificial intelligence as \"the study of intelligent agents.\" These agents will have the capacity to perceive their environment and continously take action to better its chances of accomplishing its objectives. \n",
    "\n",
    "For anything to be considered AI, it needs to show two properties:\n",
    "  * **Autonomy.** The computer/ machine / system etc will need to perform complex functions without any outside interference.\n",
    "  * **Adaptability.** The AI agent under investigation will need to continously learn from its environment and improve its performance over time."
   ]
  },
  {
   "cell_type": "markdown",
   "metadata": {},
   "source": [
    "### Artificial Intelligence vs Machine Learning Vs Deep Learning"
   ]
  },
  {
   "cell_type": "markdown",
   "metadata": {},
   "source": [
    "The image below gives a clear distiction between these three often very loosely used terminologies.  \n",
    "![AI vs ML vs DL](../images/Lesson_1/AIvsMLvsDL.PNG)  \n",
    "**Artificial intelligence** is an umbrella term refering to the field of automation that employs cognitive decision making and problem solving.  \n",
    "**Machine Learning** is a subset of AI that employs statistical learning algorithms to develop intelligent systems.  \n",
    "**Deep Learning** is a subset of machine learning that employs multi-layer neural networks to analyse data. An input is fed to the network where each layer progressively refines the input to identify the underlying patterns in the data."
   ]
  },
  {
   "cell_type": "markdown",
   "metadata": {},
   "source": [
    "### Fields Related to AI"
   ]
  },
  {
   "cell_type": "markdown",
   "metadata": {},
   "source": [
    "  * **Machine Learning.** This is a system that utilizes statistical learning algorithsm to improve its performance as more and more data is fed into it.\n",
    "  * **Deep Learning.** This is a subfield of Machine learning, which is a subfield of AI. This is a system that utilizes multiple layers to progressively identify and extract higher level features to accomplish a task at hand.\n",
    "  * **Data Science.** This is an umbrella term that encompasses various fields including Machine learning, statistics and computer science. \n",
    "  * **Robotics.** This fields involves building robots to accomplish complex tasks in a real-world situation. Robots utilize sensors, actuators and the logic component that is build using various AI methodologies."
   ]
  },
  {
   "cell_type": "markdown",
   "metadata": {},
   "source": [
    "### Where does AI shine?"
   ]
  },
  {
   "cell_type": "markdown",
   "metadata": {},
   "source": [
    "  * **Natural Language Processing.(N.L.P).** includes tasks such as answering questions, speech recognition, summarizing documents, classifying documents, finding certain words or phrases e.t.c  \n",
    "  * **Computer Vision.** includes tasks such as drone and satellite imagery recognition, face recognition, image captioning e.t.c  \n",
    "  * **Medicine.** Finding anormalies is radiology images including MRI, CT Scan and X-rays, measuring features in ultrasound.  \n",
    "  * **Biology.** genomic tasks, classifing proteins, cell classification.  \n",
    "  * **Image Generation.** colorizing images, increasing image resolution, removing noise from images, converting images to art.  \n",
    "  * **Recommender systems.** web seaech, product recommendations.  \n",
    "  * **Playing Games.** Plaing chess, go and most atari videogames.  \n",
    "  * **Robotics.** Handling objects in challenging work environments.  \n",
    "  * **Finance.** Market analysis for algorithmic trading.  "
   ]
  }
 ],
 "metadata": {
  "kernelspec": {
   "display_name": "Python 3",
   "language": "python",
   "name": "python3"
  },
  "language_info": {
   "codemirror_mode": {
    "name": "ipython",
    "version": 3
   },
   "file_extension": ".py",
   "mimetype": "text/x-python",
   "name": "python",
   "nbconvert_exporter": "python",
   "pygments_lexer": "ipython3",
   "version": "3.8.8"
  }
 },
 "nbformat": 4,
 "nbformat_minor": 2
}
