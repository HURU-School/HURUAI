{
 "cells": [
  {
   "cell_type": "markdown",
   "id": "87c73cef",
   "metadata": {},
   "source": [
    "[![Open In Colab](https://colab.research.google.com/assets/colab-badge.svg)](https://colab.research.google.com/github/HURU-School/HURUAI/blob/main/Lesson%201/Lesson%201b%20-%20History%20of%20AI.ipynb)"
   ]
  },
  {
   "cell_type": "markdown",
   "id": "preliminary-choir",
   "metadata": {},
   "source": [
    "# History of AI"
   ]
  },
  {
   "cell_type": "markdown",
   "id": "uniform-cisco",
   "metadata": {},
   "source": [
    "In 1943 Warren McCullock and Walter Pitts developed the mathematical model of an artificial neuron. Frank Rosenblatt made improvements to the model. His contributions marked the beginning of development of a machine that could perceive, recognize and identify its surroundings without human contribution. The machine was called the *Mark 1 Perceptron.*  \n",
    "![Mark 1](../images/Lesson_1/Mark1.PNG)  \n",
    "Prof. Marvin Minsky, wrote a book called \"Perceptrons\" based on Rosenbatt's invention. In the book, he noted that a single layer of Rosenbatt's invention was not able to learn critical mathematical functions. He further shows how implementation of multiple layers could address these shortcomings.\n",
    "\n",
    "In 1949, Arthur Samuel from IBM, in his paper, \"Artificial Intelligence: A frontier for Automation\" noted that programming a computer to accomplish compex task is a difficult task, not only because of the complexity within the computer, but also because of the need to outline every step involved in accomplishing this. He proposed a new methodology where instead of telling the computer the exact steps to accomplish the task, we would show the computer the problem to solve and let it figure out on its own how to solve the problem.\n",
    "\n",
    "In 1986 The release of the book series \"Parallel Distributed Computing\" by James McClean, David Rumelhart and the PDP Research Group formed a pivotal moment in A.I. The series introduced a computational framework to model cognitive processes much more similar to the functionality of the human brain. The requirements of Parallel Distributed Computing are as shown below.\n",
    "\n",
    "![PDP Approach](../images/Lesson_1/PDP_approach.PNG)\n",
    "\n",
    "Infact, today's neural networks implementation is much similar to the approach outlined in the book.  \n",
    "Around the 80's, the neural networks in production would mostly have two layers. Then, these networks were considered quite large and extremely slow, much so, that the research into neural networks dwindled for a while. However, recent advances in computing hardware and technologies, algorithmic developments and the vast amounts of data available, have enabled us to implement neural networks that utilize many layers. These networks easily perceive, recognize and identify their surroundings with no human intervention, a dream long held by Rosenblatt."
   ]
  }
 ],
 "metadata": {
  "kernelspec": {
   "display_name": "Python 3",
   "language": "python",
   "name": "python3"
  },
  "language_info": {
   "codemirror_mode": {
    "name": "ipython",
    "version": 3
   },
   "file_extension": ".py",
   "mimetype": "text/x-python",
   "name": "python",
   "nbconvert_exporter": "python",
   "pygments_lexer": "ipython3",
   "version": "3.8.8"
  }
 },
 "nbformat": 4,
 "nbformat_minor": 5
}
