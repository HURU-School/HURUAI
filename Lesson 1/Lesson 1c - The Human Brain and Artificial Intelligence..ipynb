{
 "cells": [
  {
   "cell_type": "markdown",
   "id": "fd992679",
   "metadata": {},
   "source": [
    "# The Human Brain and Artificial Intelligence"
   ]
  },
  {
   "cell_type": "markdown",
   "id": "recreational-solid",
   "metadata": {},
   "source": [
    "## How does the brain Perceive and Understand Information?\n",
    "\n",
    "The Brain is quite complex to understand. Even the best neurologists do not quite understand end-to-end how the brain works. Overtime, researchers and doctors, much more learned than I am, have come up with a simple analogy that has provided us some insights into how this complex organ works and perceives information. To understand this, we will look at these three scenarios."
   ]
  },
  {
   "cell_type": "markdown",
   "id": "4c3b4307",
   "metadata": {
    "heading_collapsed": true
   },
   "source": [
    "#### Scenario 1 - A Child Growing Up."
   ]
  },
  {
   "cell_type": "markdown",
   "id": "2e183fa2",
   "metadata": {
    "hidden": true
   },
   "source": [
    "When a child is born they usually have no understanding of the world. As they grow they start learning about things that surround them. It is no wonder the first words a child will learn is *\"Mama\"* or *\"Baba\"*, swahili words meaning *\"Mum\"* or *\"Dad\".* As they grow and we introduce new things into their environment and continously tell them what these things are, overtime, they will be able to differentiate these items."
   ]
  },
  {
   "cell_type": "markdown",
   "id": "0e9487cd",
   "metadata": {
    "heading_collapsed": true
   },
   "source": [
    "#### Scenario 2 - A friend Approaching from a far."
   ]
  },
  {
   "cell_type": "markdown",
   "id": "537292a4",
   "metadata": {
    "hidden": true
   },
   "source": [
    "Imagine someone approaching you from a far, a friend perhaps. When they are far away, we cannot see them. As they approach us we begin to see a blurry image of someone approaching. As they get closer we can now pick out the color of the clothes they are wearing. As they come closer, we are able to pick more subtle features such as their complexion, the shape of the face, their hair style and so on and so forth. Once they get close to us we can look at them, picking various features, e.g their face, eyes, ears, walking style and so on, and using these we can determine that indeed this is a particular person."
   ]
  },
  {
   "cell_type": "markdown",
   "id": "cooperative-choice",
   "metadata": {
    "heading_collapsed": true
   },
   "source": [
    "#### Scenario 3 - A Long Lost Friend."
   ]
  },
  {
   "cell_type": "markdown",
   "id": "16b2b14a",
   "metadata": {
    "hidden": true
   },
   "source": [
    "We have all had that case where you passed someone you knew from back then but could not recognize them. Right? Ever wondered what happens behind the scenes?  \n",
    "Usually, we have some memory of how the person looks like from back in the day. During the time we are apart, they grow older, and taller, more pretty, they style themselves differently, they change their walking style, how they dress e.t.c. The next time we see them, our brain will process that image but will not be able to make the connection between how they look now and how they looked back then. If our good friend stops us and reminds us of who they are, our brains will retrieve the image we had of the person and compare that to the image coming in through our eyes. Based on the features that don't change much, and this is a tip guys, e.g. eyes, ears, forehead e.t.c we are able to remember our friend even after they changed some of the features we used to identify them with. And the next time we meet them, we are able to remember them easy."
   ]
  },
  {
   "cell_type": "markdown",
   "id": "equipped-editing",
   "metadata": {},
   "source": [
    "### What does all this have to do with anything?"
   ]
  },
  {
   "cell_type": "markdown",
   "id": "95963c67",
   "metadata": {
    "heading_collapsed": true
   },
   "source": [
    "#### Case 1 - A Child growing up."
   ]
  },
  {
   "cell_type": "markdown",
   "id": "37e8bc04",
   "metadata": {
    "hidden": true
   },
   "source": [
    "This shows that when an item is introduced into our environment and we are contantly told what it is, our brain can pick that up. The next time we see it, we will be able to tell what it is immediately without any assistance."
   ]
  },
  {
   "cell_type": "markdown",
   "id": "00b6a9a0",
   "metadata": {
    "heading_collapsed": true
   },
   "source": [
    "#### Case 2 - A friend approaching from a far."
   ]
  },
  {
   "cell_type": "markdown",
   "id": "95f1beea",
   "metadata": {
    "hidden": true
   },
   "source": [
    "This shows how our brains can continously pick subtle features of something in our environment and based on how good those features are, it is able to tell whether it can identify the item.  "
   ]
  },
  {
   "cell_type": "markdown",
   "id": "8ebd19fe",
   "metadata": {
    "heading_collapsed": true
   },
   "source": [
    "#### Case 3 - A Long lost friend"
   ]
  },
  {
   "cell_type": "markdown",
   "id": "involved-theme",
   "metadata": {
    "hidden": true
   },
   "source": [
    "This is unique in that it shows how variations is the features of an item in our environment can affect how well our brains are able to tell what the item is.  "
   ]
  },
  {
   "cell_type": "markdown",
   "id": "regulated-holder",
   "metadata": {},
   "source": [
    "## Neurons"
   ]
  },
  {
   "cell_type": "markdown",
   "id": "sufficient-nitrogen",
   "metadata": {},
   "source": [
    "Neurons, also known as *biological neurons*, are the processing units of the brain. The brain is made up of millions and millions of these neurons, that are interconnected with each other. A visual representation of these neurons will look as below.\n",
    "\n",
    "![bio_neuron_network](../images/Lesson_1/bio_neuron_network.PNG)\n",
    "\n",
    "While the image above might seem complex, a single neuron is not. It looks as shown below.\n",
    "\n",
    "![single neuron](../images/Lesson_1/simple_bio_neuron.PNG)\n",
    "\n",
    "Let us look at this with regards to our earlier case of a friend approaching from a distance. When we see a person approaching, this information is sent from the retina of our eye to the first neuron of the brain connecting it to the retina. The **dendrites** of this neuron will receive that signal from our eyes and pass it to the nucleus. The **nucleus**, which is the processing unit of a neuron, processes the signal. The outcome of this process will cause the neuron to either fire or not fire. If the neuron does not fire the process terminates here. If it fires, then the signal from its output is passed to the next neuron via the axon. The **axon** takes the signal from a neuron and passes it over to the next neuron that it connects to. The axon may sometimes split into smaller branches known as **telodendria.** The telodendria of a neuron connects to the dendrites of the next neuron at intersections referred to as **synapses.** The next neuron receives signals passed to it via its dendrites and the process repeats.\n",
    "A single neuron all by itself is only able to process a handful of information. But as this network of neurons grows, then so is its capacity to process more complex information. "
   ]
  },
  {
   "cell_type": "markdown",
   "id": "established-mixer",
   "metadata": {},
   "source": [
    "### Artificial Neurons"
   ]
  },
  {
   "cell_type": "markdown",
   "id": "fleet-moral",
   "metadata": {},
   "source": [
    "Artificial neurons are a mathematical function conceived as a model of biological neurons. Structurally, an artificial neuron looks as shown below.\n",
    "\n",
    "![Artificial neuron structure](../images/Lesson_1/Artificial_neuron.PNG)\n",
    "\n",
    "When we stack more and more of these artficial neurons and interconnect them, we form an **Artificial Neural Network.** A Artificial neural network looks as shown below.\n",
    "![Artificial Neural Network Structure](../images/Lesson_1/ANN.PNG)\n",
    "Similar to how biological neurons work, they receive an input, sums them up to produce an output( or activation). When the output is above a certain threshold, the neuron fires and transmit the output to the next artificial neuron for computing.  \n",
    "Similarly to how biological neurons work, an single artificial neuron is only able to learn basic functions. A look at some of this functions might be summarized as below:\n",
    "![simple computations with artificial neurons](../images/Lesson_1/artificial_neuron_simple_computations.PNG)\n",
    "\n",
    "In the illustration above, A and B are inputs to the network and C is the output. The network illustrates how it can be used to compute the Identity, AND, OR and NOT fuctions. From left to right, these functions are summarized below:\n",
    "  1. The first network represents the identify function. If neuron A is activated, then neuron C is activated as well. If neuron A is not activated, neuron C will not be activated.\n",
    "  2. The second network represents the logical AND function. Neuron C is activated if and only if both reuron A and B are active\n",
    "  3. The third network represents the logical OR function. Neuron C is activated if either neuron A, neuron B or both are activated.\n",
    "  4. The fourth network represents the logical NOT function. Neuron C is activated when neuron A is active and neuron B is not active. "
   ]
  },
  {
   "cell_type": "markdown",
   "id": "threatened-topic",
   "metadata": {},
   "source": [
    "### Can you spot the similarities?"
   ]
  },
  {
   "cell_type": "markdown",
   "id": "65ade1da",
   "metadata": {},
   "source": [
    "Try comparing the functioning of the human brain to the Artificial Neural Network. Do you see any similarities?"
   ]
  },
  {
   "cell_type": "markdown",
   "id": "speaking-passport",
   "metadata": {},
   "source": [
    "Try comparing the networks above to the Parallel Distributed Computing methodology. Do you notice any similarities?\n",
    "Now there are still some missing pieces, being that this is a very shallow network, but I hope you can spot afew similarities between the two."
   ]
  }
 ],
 "metadata": {
  "kernelspec": {
   "display_name": "Python 3",
   "language": "python",
   "name": "python3"
  },
  "language_info": {
   "codemirror_mode": {
    "name": "ipython",
    "version": 3
   },
   "file_extension": ".py",
   "mimetype": "text/x-python",
   "name": "python",
   "nbconvert_exporter": "python",
   "pygments_lexer": "ipython3",
   "version": "3.8.8"
  }
 },
 "nbformat": 4,
 "nbformat_minor": 5
}
